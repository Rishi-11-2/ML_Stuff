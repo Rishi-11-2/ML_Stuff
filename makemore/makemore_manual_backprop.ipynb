{
  "nbformat": 4,
  "nbformat_minor": 0,
  "metadata": {
    "colab": {
      "provenance": []
    },
    "kernelspec": {
      "name": "python3",
      "display_name": "Python 3"
    },
    "language_info": {
      "name": "python"
    }
  },
  "cells": [
    {
      "cell_type": "code",
      "execution_count": 3,
      "metadata": {
        "id": "qJsnrG0oOMZ6"
      },
      "outputs": [],
      "source": [
        "import torch\n",
        "import torch.nn.functional as F\n",
        "import matplotlib.pyplot as plt\n",
        "%matplotlib inline"
      ]
    },
    {
      "cell_type": "code",
      "source": [
        "!wget https://raw.githubusercontent.com/karpathy/makemore/master/names.txt"
      ],
      "metadata": {
        "colab": {
          "base_uri": "https://localhost:8080/"
        },
        "id": "G54bi8CO_i3z",
        "outputId": "d3151e6d-a074-4e99-940c-4e69bdb5d5d6"
      },
      "execution_count": 4,
      "outputs": [
        {
          "output_type": "stream",
          "name": "stdout",
          "text": [
            "--2025-07-02 07:16:58--  https://raw.githubusercontent.com/karpathy/makemore/master/names.txt\n",
            "Resolving raw.githubusercontent.com (raw.githubusercontent.com)... 185.199.108.133, 185.199.109.133, 185.199.110.133, ...\n",
            "Connecting to raw.githubusercontent.com (raw.githubusercontent.com)|185.199.108.133|:443... connected.\n",
            "HTTP request sent, awaiting response... 200 OK\n",
            "Length: 228145 (223K) [text/plain]\n",
            "Saving to: ‘names.txt’\n",
            "\n",
            "\rnames.txt             0%[                    ]       0  --.-KB/s               \rnames.txt           100%[===================>] 222.80K  --.-KB/s    in 0.04s   \n",
            "\n",
            "2025-07-02 07:16:58 (6.14 MB/s) - ‘names.txt’ saved [228145/228145]\n",
            "\n"
          ]
        }
      ]
    },
    {
      "cell_type": "code",
      "source": [
        "words=open('names.txt','r').read().splitlines()\n",
        "words[:8]"
      ],
      "metadata": {
        "colab": {
          "base_uri": "https://localhost:8080/"
        },
        "id": "WXojZZocOTDx",
        "outputId": "79d391c9-e44a-4a1e-bcb9-3506e78a0ba5"
      },
      "execution_count": 5,
      "outputs": [
        {
          "output_type": "execute_result",
          "data": {
            "text/plain": [
              "['emma', 'olivia', 'ava', 'isabella', 'sophia', 'charlotte', 'mia', 'amelia']"
            ]
          },
          "metadata": {},
          "execution_count": 5
        }
      ]
    },
    {
      "cell_type": "code",
      "source": [
        "chars=sorted(list(set(''.join(words))))\n",
        "stoi={s:i+1  for i,s in enumerate(chars)}\n",
        "stoi['.']=0\n",
        "itos={i:s for s,i in stoi.items()}\n",
        "vocab_size=len(itos)\n",
        "print(itos)\n",
        "print(vocab_size)"
      ],
      "metadata": {
        "colab": {
          "base_uri": "https://localhost:8080/"
        },
        "id": "ZJ7xpja0OZyN",
        "outputId": "09cae1b5-aadb-4f98-aea4-3f65e225fe81"
      },
      "execution_count": 6,
      "outputs": [
        {
          "output_type": "stream",
          "name": "stdout",
          "text": [
            "{1: 'a', 2: 'b', 3: 'c', 4: 'd', 5: 'e', 6: 'f', 7: 'g', 8: 'h', 9: 'i', 10: 'j', 11: 'k', 12: 'l', 13: 'm', 14: 'n', 15: 'o', 16: 'p', 17: 'q', 18: 'r', 19: 's', 20: 't', 21: 'u', 22: 'v', 23: 'w', 24: 'x', 25: 'y', 26: 'z', 0: '.'}\n",
            "27\n"
          ]
        }
      ]
    },
    {
      "cell_type": "code",
      "source": [
        "# utility function we will use later when comparing manual gradients to Pytorch gradients\n",
        "\n",
        "def cmp(s,dt,t):\n",
        "  ex=torch.all(dt==t.grad).item()\n",
        "  app=torch.allclose(dt,t.grad)\n",
        "  maxdiff=(dt-t.grad).abs().max().item()\n",
        "  print(f'{s:15s} |  exact:{str(ex):5s} | Approximate:{str(app):5s} | maxdiff:{maxdiff}')"
      ],
      "metadata": {
        "id": "oje2NcnrBH23"
      },
      "execution_count": 7,
      "outputs": []
    },
    {
      "cell_type": "code",
      "source": [
        "# training split , dev/validation split , test split\n",
        "# 80% , 10% , 10%\n",
        "\n",
        "block_size=3 # context length , how many characters  do we take to predict the next one\n",
        "def build_dataset(words):\n",
        "  #build the dataset\n",
        "  X,Y = [],[]\n",
        "\n",
        "  for w in words:\n",
        "    context=block_size*[0]\n",
        "    for ch in w + \".\":\n",
        "      ix=stoi[ch]\n",
        "      X.append(context)\n",
        "      Y.append(ix)\n",
        "\n",
        "      context=context[1:]+[ix]\n",
        "\n",
        "  X=torch.tensor(X)\n",
        "  Y=torch.tensor(Y)\n",
        "\n",
        "  print(X.shape,Y.shape)\n",
        "  return X,Y\n",
        "\n",
        "import random\n",
        "random.seed(42)\n",
        "n1=int(0.8*len(words))\n",
        "n2=int(0.9*len(words))\n",
        "\n",
        "Xtr,Ytr=build_dataset(words[:n1])\n",
        "Xdev,Ydev=build_dataset(words[n1:n2])\n",
        "Xte,Yte=build_dataset(words[n2:])\n"
      ],
      "metadata": {
        "colab": {
          "base_uri": "https://localhost:8080/"
        },
        "id": "9cg9EElwOc6O",
        "outputId": "cd9dd894-a934-4b19-b3cd-f020ce286aa7"
      },
      "execution_count": 8,
      "outputs": [
        {
          "output_type": "stream",
          "name": "stdout",
          "text": [
            "torch.Size([182778, 3]) torch.Size([182778])\n",
            "torch.Size([22633, 3]) torch.Size([22633])\n",
            "torch.Size([22735, 3]) torch.Size([22735])\n"
          ]
        }
      ]
    },
    {
      "cell_type": "code",
      "source": [
        "n_embed=10 # the dimensionality of the character embedding vectors\n",
        "n_hidden=200 # the number of neurons in the hidden layer of the MLP\n",
        "\n",
        "g=torch.Generator().manual_seed(2147483647) # for reproducibility\n",
        "C=torch.randn((vocab_size,n_embed),generator=g)\n",
        "\n",
        "\n",
        "#Layer 1\n",
        "W1=torch.randn((n_embed*block_size,n_hidden),generator=g) * (5/3)/((n_embed*block_size)**0.5)\n",
        "b1=torch.randn(n_hidden,generator=g) * 0.1\n",
        "\n",
        "\n",
        "#Layer 2\n",
        "W2=torch.randn((n_hidden,vocab_size),generator=g) * 0.1\n",
        "b2=torch.randn(vocab_size , generator=g) * 0.1\n",
        "\n",
        "\n",
        "#BATCH NORM PARAMETERS\n",
        "\n",
        "bngain=torch.ones((1,n_hidden)) * 0.1 + 1.0\n",
        "bnbias=torch.zeros((1,n_hidden)) * 0.1\n",
        "\n",
        "\n",
        "bnmean_running=torch.zeros((1,n_hidden))\n",
        "bnstd_running=torch.ones((1,n_hidden))\n",
        "\n",
        "parameters=[C,W1,b1,W2,b2,bngain,bnbias]\n",
        "\n",
        "print(sum(p.nelement() for p in parameters))\n",
        "for p in parameters:\n",
        "  p.requires_grad=True\n"
      ],
      "metadata": {
        "id": "OwY5g-h1Oi4P",
        "colab": {
          "base_uri": "https://localhost:8080/"
        },
        "outputId": "b01ea0a6-cc8b-46e6-c790-b0df08e40fa4"
      },
      "execution_count": 9,
      "outputs": [
        {
          "output_type": "stream",
          "name": "stdout",
          "text": [
            "12297\n"
          ]
        }
      ]
    },
    {
      "cell_type": "code",
      "source": [
        "batch_size=32\n",
        "n=batch_size # shorter variable for convenience\n",
        "\n",
        "ix=torch.randint(0,Xtr.shape[0],(batch_size,), generator=g)\n",
        "Xb, Yb= Xtr[ix], Ytr[ix]  #batch X,Y"
      ],
      "metadata": {
        "id": "-Zp3WCBp9Ecp"
      },
      "execution_count": 10,
      "outputs": []
    },
    {
      "cell_type": "code",
      "source": [
        "#forward pass\n",
        "\n",
        "emb=C[Xb]  # embed the characters into vectors\n",
        "embcat=emb.view(emb.shape[0],-1) # concatenate the vectors\n",
        "\n",
        "#Linear layer 1\n",
        "hprebn=embcat@W1+b1 # hidden layer pre-activation\n",
        "\n",
        "#Batch Norm Layer\n",
        "bnmeani=(1/n)*hprebn.sum(0,keepdim=True)\n",
        "bndiff=hprebn-bnmeani\n",
        "bndiff2=bndiff**2\n",
        "bnvar=(1/(n-1))*(bndiff2).sum(0,keepdim=True)  #(note: Bessel's correction dividing by n-1 not n)\n",
        "bnvar_inv=(bnvar+1e-5)**(-0.5)\n",
        "bnraw=bndiff*bnvar_inv\n",
        "hpreact=bngain*bnraw+bnbias\n",
        "\n",
        "\n",
        "#Non-Linearity\n",
        "h=torch.tanh(hpreact) # hidden layer\n",
        "\n",
        "#Linear layer 2\n",
        "logits=h@W2+b2\n",
        "\n",
        "\n",
        "#Cross entropy (same as F.cross_entropy(logits,Yb))\n",
        "\n",
        "logit_maxes=logits.max(1,keepdim=True).values\n",
        "norm_logits=logits-logit_maxes  # subtract max for numerical stability\n",
        "counts=norm_logits.exp()\n",
        "counts_sum=counts.sum(1,keepdim=True)\n",
        "counts_sum_inv=counts_sum**(-1)\n",
        "probs=counts*counts_sum_inv\n",
        "\n",
        "logprobs=probs.log()\n",
        "loss=-logprobs[range(n),Yb].mean()\n",
        "\n",
        "\n",
        "#pytorch backward pass\n",
        "for p in parameters:\n",
        "  p.grad=None\n",
        "\n",
        "\n",
        "for t in [logprobs,probs,counts,counts_sum,counts_sum_inv,norm_logits,\n",
        "          logit_maxes,logits,h,hpreact,bnraw,bnvar_inv,bnvar,bndiff2,bndiff,hprebn,\n",
        "          bnmeani,embcat,emb]:\n",
        "          t.retain_grad()\n",
        "\n",
        "\n",
        "loss.backward()\n",
        "loss"
      ],
      "metadata": {
        "colab": {
          "base_uri": "https://localhost:8080/"
        },
        "id": "5fM7KqL19mM8",
        "outputId": "e58e444a-543a-4a2c-fee5-8f33aeda1cfc"
      },
      "execution_count": 11,
      "outputs": [
        {
          "output_type": "execute_result",
          "data": {
            "text/plain": [
              "tensor(4.1375, grad_fn=<NegBackward0>)"
            ]
          },
          "metadata": {},
          "execution_count": 11
        }
      ]
    },
    {
      "cell_type": "code",
      "source": [
        "bndiff.shape,hprebn.shape,bnmeani.shape"
      ],
      "metadata": {
        "colab": {
          "base_uri": "https://localhost:8080/"
        },
        "id": "RB4Rm4sbGEm0",
        "outputId": "51fc8c58-05c8-47b4-962d-12fefa9bdc19"
      },
      "execution_count": 12,
      "outputs": [
        {
          "output_type": "execute_result",
          "data": {
            "text/plain": [
              "(torch.Size([32, 200]), torch.Size([32, 200]), torch.Size([1, 200]))"
            ]
          },
          "metadata": {},
          "execution_count": 12
        }
      ]
    },
    {
      "cell_type": "code",
      "source": [
        "counts.shape,counts_sum_inv.shape, probs.shape"
      ],
      "metadata": {
        "colab": {
          "base_uri": "https://localhost:8080/"
        },
        "id": "6X7gEqNJH9ZN",
        "outputId": "5794f994-0a99-4db7-e1f3-825e6d8f38d7"
      },
      "execution_count": 13,
      "outputs": [
        {
          "output_type": "execute_result",
          "data": {
            "text/plain": [
              "(torch.Size([32, 27]), torch.Size([32, 1]), torch.Size([32, 27]))"
            ]
          },
          "metadata": {},
          "execution_count": 13
        }
      ]
    },
    {
      "cell_type": "code",
      "source": [
        "\"\"\"\n",
        "a11 a12 a13         b1\n",
        "a21 a22 a23 ---->   b2\n",
        "a31 a32 a33         b3\n",
        "\"\"\"\n",
        "logits.shape , logit_maxes.shape"
      ],
      "metadata": {
        "colab": {
          "base_uri": "https://localhost:8080/"
        },
        "id": "6lW6-Wj2TE1v",
        "outputId": "77110173-58a3-44f6-d72b-edcef80c4170"
      },
      "execution_count": 14,
      "outputs": [
        {
          "output_type": "execute_result",
          "data": {
            "text/plain": [
              "(torch.Size([32, 27]), torch.Size([32, 1]))"
            ]
          },
          "metadata": {},
          "execution_count": 14
        }
      ]
    },
    {
      "cell_type": "code",
      "source": [
        "W2.shape , h .shape"
      ],
      "metadata": {
        "colab": {
          "base_uri": "https://localhost:8080/"
        },
        "id": "42OocY53ZmzA",
        "outputId": "8a4a6d88-899d-4f3c-f5b0-d2be0227f054"
      },
      "execution_count": 15,
      "outputs": [
        {
          "output_type": "execute_result",
          "data": {
            "text/plain": [
              "(torch.Size([200, 27]), torch.Size([32, 200]))"
            ]
          },
          "metadata": {},
          "execution_count": 15
        }
      ]
    },
    {
      "cell_type": "code",
      "source": [
        "\"\"\"\n",
        "c = a * b , but with tensors\n",
        "a[3*3] * b[3*1] --->\n",
        "a11*b1 , a12 * b1 , a13 * b1\n",
        "a21*b2 , a22 * b2 , a23 * b2\n",
        "a31*b3 , a32 * b3 , a33 * b3\n",
        "\n",
        "c[3*3]\n",
        "\n",
        "BROADCASTING OPERATION\n",
        "\"\"\"\n"
      ],
      "metadata": {
        "id": "HnqiThhfIAIZ",
        "colab": {
          "base_uri": "https://localhost:8080/",
          "height": 34
        },
        "outputId": "fb38712c-4f07-4ee4-d1a8-f3da9d57feea"
      },
      "execution_count": 16,
      "outputs": [
        {
          "output_type": "execute_result",
          "data": {
            "text/plain": [
              "'\\nc = a * b , but with tensors\\na[3*3] * b[3*1] --->\\na11*b1 , a12 * b1 , a13 * b1\\na21*b2 , a22 * b2 , a23 * b2\\na31*b3 , a32 * b3 , a33 * b3\\n\\nc[3*3]\\n\\nBROADCASTING OPERATION\\n'"
            ],
            "application/vnd.google.colaboratory.intrinsic+json": {
              "type": "string"
            }
          },
          "metadata": {},
          "execution_count": 16
        }
      ]
    },
    {
      "cell_type": "code",
      "source": [
        "emb.shape,C.shape,Xb.shape"
      ],
      "metadata": {
        "colab": {
          "base_uri": "https://localhost:8080/"
        },
        "id": "XbjTpuWKKGUy",
        "outputId": "8f26a476-7816-412a-cc03-b999986d9661"
      },
      "execution_count": 17,
      "outputs": [
        {
          "output_type": "execute_result",
          "data": {
            "text/plain": [
              "(torch.Size([32, 3, 10]), torch.Size([27, 10]), torch.Size([32, 3]))"
            ]
          },
          "metadata": {},
          "execution_count": 17
        }
      ]
    },
    {
      "cell_type": "code",
      "source": [
        "emb.shape,embcat.shape"
      ],
      "metadata": {
        "colab": {
          "base_uri": "https://localhost:8080/"
        },
        "id": "aZNZtIEHJQ4U",
        "outputId": "84d342e9-83a3-4901-fb78-de898631e849"
      },
      "execution_count": 18,
      "outputs": [
        {
          "output_type": "execute_result",
          "data": {
            "text/plain": [
              "(torch.Size([32, 3, 10]), torch.Size([32, 30]))"
            ]
          },
          "metadata": {},
          "execution_count": 18
        }
      ]
    },
    {
      "cell_type": "code",
      "source": [
        "bnraw.shape, bndiff.shape, bnvar_inv.shape"
      ],
      "metadata": {
        "colab": {
          "base_uri": "https://localhost:8080/"
        },
        "id": "EYdCsrtMAf6J",
        "outputId": "f22144d7-0942-4af3-b3fc-1e82fc421ac5"
      },
      "execution_count": 19,
      "outputs": [
        {
          "output_type": "execute_result",
          "data": {
            "text/plain": [
              "(torch.Size([32, 200]), torch.Size([32, 200]), torch.Size([1, 200]))"
            ]
          },
          "metadata": {},
          "execution_count": 19
        }
      ]
    },
    {
      "cell_type": "code",
      "source": [
        "plt.imshow(F.one_hot(logits.max(1).indices,num_classes=logits.shape[1]) )"
      ],
      "metadata": {
        "id": "1Ufw5Q7dVSKm",
        "colab": {
          "base_uri": "https://localhost:8080/",
          "height": 447
        },
        "outputId": "ebf1469b-f8ed-44d8-8c26-f636b28fd26d"
      },
      "execution_count": 20,
      "outputs": [
        {
          "output_type": "execute_result",
          "data": {
            "text/plain": [
              "<matplotlib.image.AxesImage at 0x7d10b241d850>"
            ]
          },
          "metadata": {},
          "execution_count": 20
        },
        {
          "output_type": "display_data",
          "data": {
            "text/plain": [
              "<Figure size 640x480 with 1 Axes>"
            ],
            "image/png": "[encoded data removed]"
          },
          "metadata": {}
        }
      ]
    },
    {
      "cell_type": "code",
      "source": [
        "\"\"\"\n",
        "just for convenice writing dlogprobs as (dloss/dlogprobs)\n",
        "\"\"\"\n",
        "\n",
        "\n",
        "\"\"\"\n",
        " loss = -(a+b+c)/3\n",
        "dloss/da=-(1/3)\n",
        "dloss/db=-(1/3)\n",
        "dloss/dc=-(1/3)\n",
        "\"\"\"\n",
        "\n",
        "\n",
        "\n",
        "\"\"\"\n",
        "dloss/dprobs= (dloss/dlogprobs) * (dlogprobs*dprobs)\n",
        "\n",
        "dlogprobs= (1/probs) * dprobs\n",
        "\n",
        "\n",
        "\"\"\"\n",
        "dlogprobs= torch.zeros_like(logprobs)\n",
        "dlogprobs[range(n),Yb]=-1.0/n\n",
        "\n",
        "dprobs= dlogprobs * (1.0/probs)\n",
        "\n",
        "\n",
        "dcounts_sum_inv=(dprobs*counts).sum(1,keepdim=True)\n",
        "\n",
        "\n",
        "dcounts= dprobs*counts_sum_inv\n",
        "\n",
        "dcounts_sum= dcounts_sum_inv * -(counts_sum**-2)\n",
        "\n",
        "dcounts+=torch.ones_like(counts)*dcounts_sum\n",
        "\n",
        "dnorm_logits=(norm_logits).exp() * dcounts\n",
        "\n",
        "dlogits= 1.0 * dnorm_logits\n",
        "\n",
        "dlogit_maxes=(-1.0*dnorm_logits).sum(1,keepdim=True)\n",
        "\n",
        "dlogits+=F.one_hot(logits.max(1).indices,num_classes=logits.shape[1]) * dlogit_maxes\n",
        "\n",
        "dh=dlogits @ W2.T\n",
        "\n",
        "dW2= h.T @ dlogits\n",
        "\n",
        "db2= dlogits.sum(0)\n",
        "\n",
        "dhpreact= dh * (1.0- h**2)\n",
        "\n",
        "dbngain=(dhpreact*bnraw).sum(0,keepdim=True)\n",
        "dbnraw=dhpreact*bngain\n",
        "dbnbias=dhpreact.sum(0,keepdim=True)\n",
        "\n",
        "dbndiff=bnvar_inv*dbnraw\n",
        "\n",
        "dbnvar_inv=(bndiff*dbnraw).sum(0,keepdim=True)\n",
        "\n",
        "dbnvar=dbnvar_inv*(-0.5*(bnvar+1e-5)**(-1.5))\n",
        "\n",
        "\n",
        "dbndiff2=(1.0/(n-1))*torch.ones_like(bndiff2)*dbnvar\n",
        "\n",
        "dbndiff+=2*bndiff*dbndiff2\n",
        "\n",
        "dhprebn=dbndiff*1.0\n",
        "\n",
        "dbnmeani= (-1.0*dbndiff).sum(0,keepdim=True)\n",
        "\n",
        "dhprebn+=(1.0/n)*torch.ones_like(hprebn)*dbnmeani\n",
        "\n",
        "dembcat= dhprebn @ W1.T\n",
        "\n",
        "dW1= embcat.T @ dhprebn\n",
        "\n",
        "db1=dhprebn.sum(0)\n",
        "\n",
        "demb=dembcat.view(emb.shape)\n",
        "\n",
        "dC= torch.zeros_like(C)\n",
        "\n",
        "for i in range(Xb.shape[0]):\n",
        "  for j in range(Xb.shape[1]):\n",
        "    ix=Xb[i,j]\n",
        "    dC[ix]+=demb[i,j]\n",
        "\n",
        "\n",
        "cmp('dlogprobs',dlogprobs,logprobs)\n",
        "cmp('dprobs',dprobs,probs)\n",
        "cmp('dcounts_sum_inv',dcounts_sum_inv,counts_sum_inv)\n",
        "cmp('dcounts_sum',dcounts_sum,counts_sum)\n",
        "cmp('dcounts',dcounts,counts)\n",
        "cmp('dnorm_logits',dnorm_logits,norm_logits)\n",
        "cmp('logit_maxes',dlogit_maxes,logit_maxes)\n",
        "cmp('logits',dlogits,logits)\n",
        "cmp('h',dh,h)\n",
        "cmp('W2',dW2,W2)\n",
        "cmp('b2',db2,b2)\n",
        "cmp('hpreact',dhpreact,hpreact)\n",
        "cmp('bnbias',dbnbias,bnbias)\n",
        "cmp('bngain',dbngain,bngain)\n",
        "cmp('bnraw',dbnraw,bnraw)\n",
        "cmp('bnvar_inv',dbnvar_inv,bnvar_inv)\n",
        "cmp('bnvar',dbnvar,bnvar)\n",
        "cmp('bndiff2',dbndiff2,bndiff2)\n",
        "cmp('bndiff',dbndiff,bndiff)\n",
        "cmp('bnmeani',dbnmeani,bnmeani)\n",
        "cmp('hprebn',dhprebn,hprebn)\n",
        "cmp('embcat',dembcat,embcat)\n",
        "cmp('W1',dW1,W1)\n",
        "cmp('b1',db1,b1)\n",
        "cmp('emb',demb,emb)\n",
        "cmp('C',dC,C)"
      ],
      "metadata": {
        "colab": {
          "base_uri": "https://localhost:8080/"
        },
        "id": "rN7XJSKhA_-m",
        "outputId": "16b30f24-aba9-4a40-90b9-cbae349e5536"
      },
      "execution_count": 21,
      "outputs": [
        {
          "output_type": "stream",
          "name": "stdout",
          "text": [
            "dlogprobs       |  exact:True  | Approximate:True  | maxdiff:0.0\n",
            "dprobs          |  exact:True  | Approximate:True  | maxdiff:0.0\n",
            "dcounts_sum_inv |  exact:True  | Approximate:True  | maxdiff:0.0\n",
            "dcounts_sum     |  exact:True  | Approximate:True  | maxdiff:0.0\n",
            "dcounts         |  exact:True  | Approximate:True  | maxdiff:0.0\n",
            "dnorm_logits    |  exact:True  | Approximate:True  | maxdiff:0.0\n",
            "logit_maxes     |  exact:True  | Approximate:True  | maxdiff:0.0\n",
            "logits          |  exact:True  | Approximate:True  | maxdiff:0.0\n",
            "h               |  exact:True  | Approximate:True  | maxdiff:0.0\n",
            "W2              |  exact:True  | Approximate:True  | maxdiff:0.0\n",
            "b2              |  exact:True  | Approximate:True  | maxdiff:0.0\n",
            "hpreact         |  exact:False | Approximate:True  | maxdiff:9.313225746154785e-10\n",
            "bnbias          |  exact:False | Approximate:True  | maxdiff:7.450580596923828e-09\n",
            "bngain          |  exact:False | Approximate:True  | maxdiff:1.862645149230957e-09\n",
            "bnraw           |  exact:False | Approximate:True  | maxdiff:1.3969838619232178e-09\n",
            "bnvar_inv       |  exact:False | Approximate:True  | maxdiff:3.725290298461914e-09\n",
            "bnvar           |  exact:False | Approximate:True  | maxdiff:1.3969838619232178e-09\n",
            "bndiff2         |  exact:False | Approximate:True  | maxdiff:4.3655745685100555e-11\n",
            "bndiff          |  exact:False | Approximate:True  | maxdiff:1.3969838619232178e-09\n",
            "bnmeani         |  exact:False | Approximate:True  | maxdiff:3.725290298461914e-09\n",
            "hprebn          |  exact:False | Approximate:True  | maxdiff:1.3969838619232178e-09\n",
            "embcat          |  exact:False | Approximate:True  | maxdiff:3.725290298461914e-09\n",
            "W1              |  exact:False | Approximate:True  | maxdiff:7.450580596923828e-09\n",
            "b1              |  exact:False | Approximate:True  | maxdiff:3.841705620288849e-09\n",
            "emb             |  exact:False | Approximate:True  | maxdiff:3.725290298461914e-09\n",
            "C               |  exact:False | Approximate:True  | maxdiff:1.6763806343078613e-08\n"
          ]
        }
      ]
    },
    {
      "cell_type": "code",
      "source": [
        "bngain.shape, bnraw.shape, dhpreact.shape , bnbias.shape"
      ],
      "metadata": {
        "colab": {
          "base_uri": "https://localhost:8080/"
        },
        "id": "yjigb6n--ivH",
        "outputId": "1956b562-3fb6-4c96-a215-5516e36392f8"
      },
      "execution_count": 22,
      "outputs": [
        {
          "output_type": "execute_result",
          "data": {
            "text/plain": [
              "(torch.Size([1, 200]),\n",
              " torch.Size([32, 200]),\n",
              " torch.Size([32, 200]),\n",
              " torch.Size([1, 200]))"
            ]
          },
          "metadata": {},
          "execution_count": 22
        }
      ]
    },
    {
      "cell_type": "code",
      "source": [
        "# Exercise 2: backprop through cross_entropy but all in one go\n",
        "# to complete this challenge look at the mathematical expression of the loss,\n",
        "# take the derivative, simplify the expression, and just write it out\n",
        "\n",
        "# forward pass\n",
        "\n",
        "# before:\n",
        "# logit_maxes = logits.max(1, keepdim=True).values\n",
        "# norm_logits = logits - logit_maxes # subtract max for numerical stability\n",
        "# counts = norm_logits.exp()\n",
        "# counts_sum = counts.sum(1, keepdims=True)\n",
        "# counts_sum_inv = counts_sum**-1 # if I use (1.0 / counts_sum) instead then I can't get backprop to be bit exact...\n",
        "# probs = counts * counts_sum_inv\n",
        "# logprobs = probs.log()\n",
        "# loss = -logprobs[range(n), Yb].mean()\n",
        "\n",
        "# now:\n",
        "loss_fast = F.cross_entropy(logits, Yb)\n",
        "print(loss_fast.item(), 'diff:', (loss_fast - loss).item())"
      ],
      "metadata": {
        "colab": {
          "base_uri": "https://localhost:8080/"
        },
        "id": "cD1G3apn5IOO",
        "outputId": "0cb01c64-6e76-4662-c113-8b6a3712eff3"
      },
      "execution_count": 23,
      "outputs": [
        {
          "output_type": "stream",
          "name": "stdout",
          "text": [
            "4.137534141540527 diff: 4.76837158203125e-07\n"
          ]
        }
      ]
    },
    {
      "cell_type": "code",
      "source": [
        "dlogits=F.softmax(logits,1)\n",
        "dlogits[range(n),Yb]-=1\n",
        "dlogits/=n\n",
        "cmp('logits',dlogits,logits)"
      ],
      "metadata": {
        "colab": {
          "base_uri": "https://localhost:8080/"
        },
        "id": "i0ResfaC2sCp",
        "outputId": "908609a6-0aa3-4a58-bd0b-7dd50870a77a"
      },
      "execution_count": 24,
      "outputs": [
        {
          "output_type": "stream",
          "name": "stdout",
          "text": [
            "logits          |  exact:False | Approximate:True  | maxdiff:5.587935447692871e-09\n"
          ]
        }
      ]
    },
    {
      "cell_type": "code",
      "source": [
        "logits.shape,Yb.shape"
      ],
      "metadata": {
        "colab": {
          "base_uri": "https://localhost:8080/"
        },
        "id": "kVOgI8pu4Szl",
        "outputId": "0b4557e8-a1a4-42c5-f2f0-0feca4166803"
      },
      "execution_count": 25,
      "outputs": [
        {
          "output_type": "execute_result",
          "data": {
            "text/plain": [
              "(torch.Size([32, 27]), torch.Size([32]))"
            ]
          },
          "metadata": {},
          "execution_count": 25
        }
      ]
    },
    {
      "cell_type": "code",
      "source": [
        "F.softmax(logits,1)[0]"
      ],
      "metadata": {
        "colab": {
          "base_uri": "https://localhost:8080/"
        },
        "id": "rjbvFLIO4UO0",
        "outputId": "194417ca-b36c-4cde-9b77-806b35d2494e"
      },
      "execution_count": 26,
      "outputs": [
        {
          "output_type": "execute_result",
          "data": {
            "text/plain": [
              "tensor([0.0077, 0.0418, 0.0209, 0.0069, 0.1033, 0.0765, 0.1834, 0.0429, 0.0071,\n",
              "        0.0278, 0.0278, 0.0709, 0.0142, 0.0431, 0.0040, 0.0060, 0.0286, 0.0056,\n",
              "        0.0411, 0.0302, 0.0924, 0.0212, 0.0101, 0.0154, 0.0238, 0.0279, 0.0193],\n",
              "       grad_fn=<SelectBackward0>)"
            ]
          },
          "metadata": {},
          "execution_count": 26
        }
      ]
    },
    {
      "cell_type": "code",
      "source": [
        "dlogits[0]"
      ],
      "metadata": {
        "colab": {
          "base_uri": "https://localhost:8080/"
        },
        "id": "3Yr9fhhn4WeZ",
        "outputId": "7ff547c4-50ae-4fa1-ee7e-f4fc976ab90a"
      },
      "execution_count": 27,
      "outputs": [
        {
          "output_type": "execute_result",
          "data": {
            "text/plain": [
              "tensor([ 0.0002,  0.0013,  0.0007,  0.0002,  0.0032,  0.0024,  0.0057,  0.0013,\n",
              "        -0.0310,  0.0009,  0.0009,  0.0022,  0.0004,  0.0013,  0.0001,  0.0002,\n",
              "         0.0009,  0.0002,  0.0013,  0.0009,  0.0029,  0.0007,  0.0003,  0.0005,\n",
              "         0.0007,  0.0009,  0.0006], grad_fn=<SelectBackward0>)"
            ]
          },
          "metadata": {},
          "execution_count": 27
        }
      ]
    },
    {
      "cell_type": "code",
      "source": [
        "\"\"\"\n",
        "sum is very close to zero , because kind of push/pull is happening, the correct probability is being pushed up\n",
        "while the incorrect probability is being pulled down. This is in effect affects the weights and biases of the network all the way down\n",
        "to the input layer\n",
        "\"\"\"\n",
        "\n",
        "dlogits[0].sum()"
      ],
      "metadata": {
        "colab": {
          "base_uri": "https://localhost:8080/"
        },
        "id": "m2iERPbq4XHS",
        "outputId": "86e88311-5875-4f56-9031-8740b88ea691"
      },
      "execution_count": 28,
      "outputs": [
        {
          "output_type": "execute_result",
          "data": {
            "text/plain": [
              "tensor(-2.3283e-09, grad_fn=<SumBackward0>)"
            ]
          },
          "metadata": {},
          "execution_count": 28
        }
      ]
    },
    {
      "cell_type": "code",
      "source": [
        "plt.figure(figsize=(8,8))\n",
        "plt.imshow(dlogits.detach(),cmap='gray')"
      ],
      "metadata": {
        "colab": {
          "base_uri": "https://localhost:8080/",
          "height": 693
        },
        "id": "T3aXYRYr3px3",
        "outputId": "b23526f1-d043-4563-ca64-430c9a13ad6c"
      },
      "execution_count": 29,
      "outputs": [
        {
          "output_type": "execute_result",
          "data": {
            "text/plain": [
              "<matplotlib.image.AxesImage at 0x7d10b1b8d850>"
            ]
          },
          "metadata": {},
          "execution_count": 29
        },
        {
          "output_type": "display_data",
          "data": {
            "text/plain": [
              "<Figure size 800x800 with 1 Axes>"
            ],
            "image/png": "[encoded data removed]"
          },
          "metadata": {}
        }
      ]
    },
    {
      "cell_type": "code",
      "source": [
        "# Exercise 3: backprop through batchnorm but all in one go\n",
        "# to complete this challenge look at the mathematical expression of the output of batchnorm,\n",
        "# take the derivative w.r.t. its input, simplify the expression, and just write it out\n",
        "# BatchNorm paper: https://arxiv.org/abs/1502.03167\n",
        "\n",
        "# forward pass\n",
        "\n",
        "# before:\n",
        "# bnmeani = 1/n*hprebn.sum(0, keepdim=True)\n",
        "# bndiff = hprebn - bnmeani\n",
        "# bndiff2 = bndiff**2\n",
        "# bnvar = 1/(n-1)*(bndiff2).sum(0, keepdim=True) # note: Bessel's correction (dividing by n-1, not n)\n",
        "# bnvar_inv = (bnvar + 1e-5)**-0.5\n",
        "# bnraw = bndiff * bnvar_inv\n",
        "# hpreact = bngain * bnraw + bnbias\n",
        "\n",
        "# now:\n",
        "hpreact_fast = bngain * (hprebn - hprebn.mean(0, keepdim=True)) / torch.sqrt(hprebn.var(0, keepdim=True, unbiased=True) + 1e-5) + bnbias\n",
        "print('max diff:', (hpreact_fast - hpreact).abs().max())"
      ],
      "metadata": {
        "colab": {
          "base_uri": "https://localhost:8080/"
        },
        "id": "cuvEHlCv5MHJ",
        "outputId": "e475993b-49c5-48ca-ea43-48f0f2212ace"
      },
      "execution_count": 30,
      "outputs": [
        {
          "output_type": "stream",
          "name": "stdout",
          "text": [
            "max diff: tensor(4.7684e-07, grad_fn=<MaxBackward1>)\n"
          ]
        }
      ]
    },
    {
      "cell_type": "code",
      "source": [
        "n"
      ],
      "metadata": {
        "colab": {
          "base_uri": "https://localhost:8080/"
        },
        "id": "VpuvybXR-8DR",
        "outputId": "b277e403-7f86-4858-92f5-e4f2ffce46e0"
      },
      "execution_count": 31,
      "outputs": [
        {
          "output_type": "execute_result",
          "data": {
            "text/plain": [
              "32"
            ]
          },
          "metadata": {},
          "execution_count": 31
        }
      ]
    },
    {
      "cell_type": "code",
      "source": [
        "dhpreact.shape,dhpreact.sum(0).shape,bnraw.shape"
      ],
      "metadata": {
        "colab": {
          "base_uri": "https://localhost:8080/"
        },
        "id": "SzftVUkU9viw",
        "outputId": "8c3b5d8d-63ab-42a8-9d83-ada4df5d7d67"
      },
      "execution_count": 32,
      "outputs": [
        {
          "output_type": "execute_result",
          "data": {
            "text/plain": [
              "(torch.Size([32, 200]), torch.Size([200]), torch.Size([32, 200]))"
            ]
          },
          "metadata": {},
          "execution_count": 32
        }
      ]
    },
    {
      "cell_type": "code",
      "source": [
        "bngain.shape,bnvar_inv.shape"
      ],
      "metadata": {
        "colab": {
          "base_uri": "https://localhost:8080/"
        },
        "id": "Ukf6YFfC-R3u",
        "outputId": "d670c00e-4ba2-4fa5-c28c-fab11ae6ab7c"
      },
      "execution_count": 33,
      "outputs": [
        {
          "output_type": "execute_result",
          "data": {
            "text/plain": [
              "(torch.Size([1, 200]), torch.Size([1, 200]))"
            ]
          },
          "metadata": {},
          "execution_count": 33
        }
      ]
    },
    {
      "cell_type": "code",
      "source": [
        "\n",
        "# backward pass\n",
        "\n",
        "# before we had:\n",
        "# dbnraw = bngain * dhpreact\n",
        "# dbndiff = bnvar_inv * dbnraw\n",
        "# dbnvar_inv = (bndiff * dbnraw).sum(0, keepdim=True)\n",
        "# dbnvar = (-0.5*(bnvar + 1e-5)**-1.5) * dbnvar_inv\n",
        "# dbndiff2 = (1.0/(n-1))*torch.ones_like(bndiff2) * dbnvar\n",
        "# dbndiff += (2*bndiff) * dbndiff2\n",
        "# dhprebn = dbndiff.clone()\n",
        "# dbnmeani = (-dbndiff).sum(0)\n",
        "# dhprebn += 1.0/n * (torch.ones_like(hprebn) * dbnmeani)\n",
        "\n",
        "# calculate dhprebn given dhpreact (i.e. backprop through the batchnorm)\n",
        "# (you'll also need to use some of the variables from the forward pass up above)\n",
        "\n",
        "dhprebn = bngain*bnvar_inv/n * (n*dhpreact - dhpreact.sum(0) - n/(n-1)*bnraw*(dhpreact*bnraw).sum(0))\n",
        "\n",
        "cmp('hprebn', dhprebn, hprebn) # I can only get approximate to be true, my maxdiff is 9e-10\n",
        "\n"
      ],
      "metadata": {
        "colab": {
          "base_uri": "https://localhost:8080/"
        },
        "id": "7gdT8Xzo5M2g",
        "outputId": "3354124a-cfcd-402f-8e67-f8b14566ede2"
      },
      "execution_count": 34,
      "outputs": [
        {
          "output_type": "stream",
          "name": "stdout",
          "text": [
            "hprebn          |  exact:False | Approximate:True  | maxdiff:1.3969838619232178e-09\n"
          ]
        }
      ]
    },
    {
      "cell_type": "code",
      "source": [
        "# Exercise 4: putting it all together!\n",
        "# Train the MLP neural net with your own backward pass\n",
        "\n",
        "# init\n",
        "n_embd = 10 # the dimensionality of the character embedding vectors\n",
        "n_hidden = 200 # the number of neurons in the hidden layer of the MLP\n",
        "\n",
        "g = torch.Generator().manual_seed(2147483647) # for reproducibility\n",
        "C  = torch.randn((vocab_size, n_embd),            generator=g)\n",
        "# Layer 1\n",
        "W1 = torch.randn((n_embd * block_size, n_hidden), generator=g) * (5/3)/((n_embd * block_size)**0.5)\n",
        "b1 = torch.randn(n_hidden,                        generator=g) * 0.1\n",
        "# Layer 2\n",
        "W2 = torch.randn((n_hidden, vocab_size),          generator=g) * 0.1\n",
        "b2 = torch.randn(vocab_size,                      generator=g) * 0.1\n",
        "# BatchNorm parameters\n",
        "bngain = torch.randn((1, n_hidden))*0.1 + 1.0\n",
        "bnbias = torch.randn((1, n_hidden))*0.1\n",
        "\n",
        "parameters = [C, W1, b1, W2, b2, bngain, bnbias]\n",
        "print(f'Number of Parameters:{sum(p.nelement() for p in parameters)}')\n",
        "for p in parameters:\n",
        "  p.requires_grad = True\n",
        "\n",
        "# same optimization as last time\n",
        "max_steps = 200000\n",
        "batch_size = 32\n",
        "n = batch_size # convenience\n",
        "lossi = []\n",
        "\n",
        "# use this context manager for efficiency once your backward pass is written (TODO)\n",
        "with torch.no_grad():\n",
        "\n",
        "# kick off optimization\n",
        "  for i in range(max_steps):\n",
        "\n",
        "    # minibatch construct\n",
        "    ix = torch.randint(0, Xtr.shape[0], (batch_size,), generator=g)\n",
        "    Xb, Yb = Xtr[ix], Ytr[ix] # batch X,Y\n",
        "\n",
        "    # forward pass\n",
        "    emb = C[Xb] # embed the characters into vectors\n",
        "    embcat = emb.view(emb.shape[0], -1) # concatenate the vectors\n",
        "    # Linear layer\n",
        "    hprebn = embcat @ W1 + b1 # hidden layer pre-activation\n",
        "    # BatchNorm layer\n",
        "    # -------------------------------------------------------------\n",
        "    bnmean = hprebn.mean(0, keepdim=True)\n",
        "    bnvar = hprebn.var(0, keepdim=True, unbiased=True)\n",
        "    bnvar_inv = (bnvar + 1e-5)**-0.5\n",
        "    bnraw = (hprebn - bnmean) * bnvar_inv\n",
        "    hpreact = bngain * bnraw + bnbias\n",
        "    # -------------------------------------------------------------\n",
        "    # Non-linearity\n",
        "    h = torch.tanh(hpreact) # hidden layer\n",
        "    logits = h @ W2 + b2 # output layer\n",
        "    loss = F.cross_entropy(logits, Yb) # loss function\n",
        "\n",
        "    # backward pass\n",
        "    for p in parameters:\n",
        "      p.grad = None\n",
        "\n",
        "    # manual backprop!\n",
        "    dlogits=F.softmax(logits,1)\n",
        "    dlogits[range(n),Yb]-=1\n",
        "    dlogits/=n\n",
        "\n",
        "\n",
        "    # 2nd layer backprop\n",
        "    dh=dlogits @ W2.T\n",
        "    dW2= h.T @ dlogits\n",
        "\n",
        "    db2= dlogits.sum(0)\n",
        "\n",
        "    #tanh backprop\n",
        "    dhpreact= dh * (1.0- h**2)\n",
        "\n",
        "    #batchnorm backprop\n",
        "\n",
        "    dbngain=(dhpreact*bnraw).sum(0,keepdim=True)\n",
        "    dbnbias=dhpreact.sum(0,keepdim=True)\n",
        "\n",
        "    dhprebn = bngain*bnvar_inv/n * (n*dhpreact - dhpreact.sum(0) - n/(n-1)*bnraw*(dhpreact*bnraw).sum(0))\n",
        "\n",
        "    #1st layer\n",
        "    dembcat= dhprebn @ W1.T\n",
        "\n",
        "    dW1= embcat.T @ dhprebn\n",
        "\n",
        "    db1=dhprebn.sum(0)\n",
        "\n",
        "    #embedding\n",
        "    demb=dembcat.view(emb.shape)\n",
        "\n",
        "    dC= torch.zeros_like(C)\n",
        "\n",
        "    for k in range(Xb.shape[0]):\n",
        "      for j in range(Xb.shape[1]):\n",
        "        ix=Xb[k,j]\n",
        "        dC[ix]+=demb[k,j]\n",
        "    # -----------------\n",
        "\n",
        "    grads = [dC, dW1, db1, dW2, db2, dbngain, dbnbias]\n",
        "\n",
        "    # -----------------\n",
        "    # update\n",
        "    lr = 0.1 if i < 100000 else 0.01 # step learning rate decay\n",
        "    for p, grad in zip(parameters, grads):\n",
        "      p.data+=-lr*grad\n",
        "      # p.data += -lr * p.grad # old way of cheems doge (using PyTorch grad from .backward())\n",
        "      #p.data += -lr * grad # new way of swole doge TODO: enable\n",
        "\n",
        "    # track stats\n",
        "    if i % 10000 == 0: # print every once in a while\n",
        "      print(f'{i:7d}/{max_steps:7d}: {loss.item():.4f}')\n",
        "    lossi.append(loss.log10().item())\n"
      ],
      "metadata": {
        "colab": {
          "base_uri": "https://localhost:8080/"
        },
        "id": "98O6rMZb-ci2",
        "outputId": "7c6839d2-f505-4c1e-8203-8bcb66b6a33a"
      },
      "execution_count": 35,
      "outputs": [
        {
          "output_type": "stream",
          "name": "stdout",
          "text": [
            "Number of Parameters:12297\n",
            "      0/ 200000: 4.0807\n",
            "  10000/ 200000: 2.0957\n",
            "  20000/ 200000: 2.0667\n",
            "  30000/ 200000: 1.7591\n",
            "  40000/ 200000: 2.0495\n",
            "  50000/ 200000: 1.9422\n",
            "  60000/ 200000: 2.6276\n",
            "  70000/ 200000: 2.3350\n",
            "  80000/ 200000: 1.8153\n",
            "  90000/ 200000: 2.2998\n",
            " 100000/ 200000: 2.1586\n",
            " 110000/ 200000: 1.9169\n",
            " 120000/ 200000: 1.9188\n",
            " 130000/ 200000: 2.0760\n",
            " 140000/ 200000: 2.0601\n",
            " 150000/ 200000: 2.3629\n",
            " 160000/ 200000: 1.9903\n",
            " 170000/ 200000: 2.1860\n",
            " 180000/ 200000: 2.2385\n",
            " 190000/ 200000: 1.7978\n"
          ]
        }
      ]
    },
    {
      "cell_type": "code",
      "source": [
        "with torch.no_grad():\n",
        "  # pass the training set through\n",
        "  emb = C[Xtr]\n",
        "  embcat = emb.view(emb.shape[0], -1)\n",
        "  hpreact = embcat @ W1 + b1\n",
        "  # measure the mean/std over the entire training set\n",
        "  bnmean = hpreact.mean(0, keepdim=True)\n",
        "  bnvar = hpreact.var(0, keepdim=True, unbiased=True)"
      ],
      "metadata": {
        "id": "gJjFLvIUD-NT"
      },
      "execution_count": 36,
      "outputs": []
    },
    {
      "cell_type": "code",
      "source": [
        "# evaluate train and val loss\n",
        "\n",
        "@torch.no_grad() # this decorator disables gradient tracking\n",
        "def split_loss(split):\n",
        "  x,y = {\n",
        "    'train': (Xtr, Ytr),\n",
        "    'val': (Xdev, Ydev),\n",
        "    'test': (Xte, Yte),\n",
        "  }[split]\n",
        "  emb = C[x] # (N, block_size, n_embd)\n",
        "  embcat = emb.view(emb.shape[0], -1) # concat into (N, block_size * n_embd)\n",
        "  hpreact = embcat @ W1 + b1\n",
        "  hpreact = bngain * (hpreact - bnmean) * (bnvar + 1e-5)**-0.5 + bnbias\n",
        "  h = torch.tanh(hpreact) # (N, n_hidden)\n",
        "  logits = h @ W2 + b2 # (N, vocab_size)\n",
        "  loss = F.cross_entropy(logits, y)\n",
        "  print(split, loss.item())\n",
        "\n",
        "split_loss('train')\n",
        "split_loss('val')"
      ],
      "metadata": {
        "colab": {
          "base_uri": "https://localhost:8080/"
        },
        "id": "6QjEqDEYD-pP",
        "outputId": "5aa954a7-e348-4048-875e-eadee7b9cc8d"
      },
      "execution_count": 37,
      "outputs": [
        {
          "output_type": "stream",
          "name": "stdout",
          "text": [
            "train 2.0234570503234863\n",
            "val 2.32807993888855\n"
          ]
        }
      ]
    },
    {
      "cell_type": "code",
      "source": [
        "g = torch.Generator().manual_seed(2147483647 + 10)\n",
        "\n",
        "for _ in range(20):\n",
        "\n",
        "    out = []\n",
        "    context = [0] * block_size # initialize with all ...\n",
        "    while True:\n",
        "      # ------------\n",
        "      # forward pass:\n",
        "      # Embedding\n",
        "      emb = C[torch.tensor([context])] # (1,block_size,d)\n",
        "      embcat = emb.view(emb.shape[0], -1) # concat into (N, block_size * n_embd)\n",
        "      hpreact = embcat @ W1 + b1\n",
        "      hpreact = bngain * (hpreact - bnmean) * (bnvar + 1e-5)**-0.5 + bnbias\n",
        "      h = torch.tanh(hpreact) # (N, n_hidden)\n",
        "      logits = h @ W2 + b2 # (N, vocab_size)\n",
        "      # ------------\n",
        "      # Sample\n",
        "      probs = F.softmax(logits, dim=1)\n",
        "      ix = torch.multinomial(probs, num_samples=1, generator=g).item()\n",
        "      context = context[1:] + [ix]\n",
        "      out.append(ix)\n",
        "      if ix == 0:\n",
        "        break\n",
        "\n",
        "    print(''.join(itos[i] for i in out))"
      ],
      "metadata": {
        "colab": {
          "base_uri": "https://localhost:8080/"
        },
        "id": "RvyrsypCEBB1",
        "outputId": "e268931f-9358-49a3-f4d3-99d5cdff7f20"
      },
      "execution_count": 38,
      "outputs": [
        {
          "output_type": "stream",
          "name": "stdout",
          "text": [
            "mora.\n",
            "mayah.\n",
            "see.\n",
            "madhayla.\n",
            "remman.\n",
            "emdrlee.\n",
            "adelynnelin.\n",
            "shi.\n",
            "jen.\n",
            "edelissopharleigh.\n",
            "malaia.\n",
            "nosalbergihi.\n",
            "jest.\n",
            "jaireth.\n",
            "konnie.\n",
            "casuma.\n",
            "ged.\n",
            "ryyah.\n",
            "faeh.\n",
            "yuma.\n"
          ]
        }
      ]
    }
  ]
}