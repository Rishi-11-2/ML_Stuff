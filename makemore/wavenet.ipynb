{
  "nbformat": 4,
  "nbformat_minor": 0,
  "metadata": {
    "colab": {
      "provenance": []
    },
    "kernelspec": {
      "name": "python3",
      "display_name": "Python 3"
    },
    "language_info": {
      "name": "python"
    }
  },
  "cells": [
    {
      "cell_type": "code",
      "execution_count": 17,
      "metadata": {
        "id": "Ib5-iOXZ___S"
      },
      "outputs": [],
      "source": [
        "import torch\n",
        "import torch.nn.functional as F\n",
        "import matplotlib.pyplot as plt\n",
        "%matplotlib inline"
      ]
    },
    {
      "cell_type": "code",
      "source": [
        "!wget https://raw.githubusercontent.com/karpathy/makemore/master/names.txt"
      ],
      "metadata": {
        "colab": {
          "base_uri": "https://localhost:8080/"
        },
        "id": "U_qIRHEDAG0v",
        "outputId": "745101d7-9b0d-4290-a7be-dd63ae21c416"
      },
      "execution_count": 18,
      "outputs": [
        {
          "output_type": "stream",
          "name": "stdout",
          "text": [
            "--2025-07-03 06:22:02--  https://raw.githubusercontent.com/karpathy/makemore/master/names.txt\n",
            "Resolving raw.githubusercontent.com (raw.githubusercontent.com)... 185.199.108.133, 185.199.111.133, 185.199.110.133, ...\n",
            "Connecting to raw.githubusercontent.com (raw.githubusercontent.com)|185.199.108.133|:443... connected.\n",
            "HTTP request sent, awaiting response... 200 OK\n",
            "Length: 228145 (223K) [text/plain]\n",
            "Saving to: ‘names.txt.2’\n",
            "\n",
            "\rnames.txt.2           0%[                    ]       0  --.-KB/s               \rnames.txt.2         100%[===================>] 222.80K  --.-KB/s    in 0.04s   \n",
            "\n",
            "2025-07-03 06:22:02 (6.01 MB/s) - ‘names.txt.2’ saved [228145/228145]\n",
            "\n"
          ]
        }
      ]
    },
    {
      "cell_type": "code",
      "source": [
        "words=open('names.txt','r').read().splitlines()\n",
        "words[:8]"
      ],
      "metadata": {
        "colab": {
          "base_uri": "https://localhost:8080/"
        },
        "id": "NhAU8oq0AJAb",
        "outputId": "cc638ed9-faf8-4202-aef1-c71c225d7bf5"
      },
      "execution_count": 19,
      "outputs": [
        {
          "output_type": "execute_result",
          "data": {
            "text/plain": [
              "['emma', 'olivia', 'ava', 'isabella', 'sophia', 'charlotte', 'mia', 'amelia']"
            ]
          },
          "metadata": {},
          "execution_count": 19
        }
      ]
    },
    {
      "cell_type": "code",
      "source": [
        "chars=sorted(list(set(''.join(words))))\n",
        "stoi={s:i+1  for i,s in enumerate(chars)}\n",
        "stoi['.']=0\n",
        "itos={i:s for s,i in stoi.items()}\n",
        "vocab_size=len(itos)\n",
        "print(itos)\n",
        "print(vocab_size)"
      ],
      "metadata": {
        "colab": {
          "base_uri": "https://localhost:8080/"
        },
        "id": "6w3oOtlcALNR",
        "outputId": "bbb3e578-1c99-48e1-e035-7c40a6dadacd"
      },
      "execution_count": 20,
      "outputs": [
        {
          "output_type": "stream",
          "name": "stdout",
          "text": [
            "{1: 'a', 2: 'b', 3: 'c', 4: 'd', 5: 'e', 6: 'f', 7: 'g', 8: 'h', 9: 'i', 10: 'j', 11: 'k', 12: 'l', 13: 'm', 14: 'n', 15: 'o', 16: 'p', 17: 'q', 18: 'r', 19: 's', 20: 't', 21: 'u', 22: 'v', 23: 'w', 24: 'x', 25: 'y', 26: 'z', 0: '.'}\n",
            "27\n"
          ]
        }
      ]
    },
    {
      "cell_type": "code",
      "source": [
        "for x,y in zip(Xtr[:20], Ytr[:20]):\n",
        "  print(''.join(itos[ix.item()] for ix in x), '-->', itos[y.item()])"
      ],
      "metadata": {
        "colab": {
          "base_uri": "https://localhost:8080/"
        },
        "id": "Bb0IPjXVJewg",
        "outputId": "a6f9c0ad-e3f3-432c-f970-a7edd0fb18ec"
      },
      "execution_count": 88,
      "outputs": [
        {
          "output_type": "stream",
          "name": "stdout",
          "text": [
            "........ --> e\n",
            ".......e --> m\n",
            "......em --> m\n",
            ".....emm --> a\n",
            "....emma --> .\n",
            "........ --> o\n",
            ".......o --> l\n",
            "......ol --> i\n",
            ".....oli --> v\n",
            "....oliv --> i\n",
            "...olivi --> a\n",
            "..olivia --> .\n",
            "........ --> a\n",
            ".......a --> v\n",
            "......av --> a\n",
            ".....ava --> .\n",
            "........ --> i\n",
            ".......i --> s\n",
            "......is --> a\n",
            ".....isa --> b\n"
          ]
        }
      ]
    },
    {
      "cell_type": "code",
      "source": [
        "# training split , dev/validation split , test split\n",
        "# 80% , 10% , 10%\n",
        "\n",
        "block_size=8 # context length , how many characters  do we take to predict the next one\n",
        "def build_dataset(words):\n",
        "  #build the dataset\n",
        "  X,Y = [],[]\n",
        "\n",
        "  for w in words:\n",
        "    context=block_size*[0]\n",
        "    for ch in w + \".\":\n",
        "      ix=stoi[ch]\n",
        "      X.append(context)\n",
        "      Y.append(ix)\n",
        "\n",
        "      context=context[1:]+[ix]\n",
        "\n",
        "  X=torch.tensor(X)\n",
        "  Y=torch.tensor(Y)\n",
        "\n",
        "  print(X.shape,Y.shape)\n",
        "  return X,Y\n",
        "\n",
        "import random\n",
        "random.seed(42)\n",
        "n1=int(0.8*len(words))\n",
        "n2=int(0.9*len(words))\n",
        "\n",
        "Xtr,Ytr=build_dataset(words[:n1])\n",
        "Xdev,Ydev=build_dataset(words[n1:n2])\n",
        "Xte,Yte=build_dataset(words[n2:])\n"
      ],
      "metadata": {
        "colab": {
          "base_uri": "https://localhost:8080/"
        },
        "id": "JDThZz5rAM3-",
        "outputId": "7fe869b4-5c7a-4218-d458-c22c8080c950"
      },
      "execution_count": 45,
      "outputs": [
        {
          "output_type": "stream",
          "name": "stdout",
          "text": [
            "torch.Size([182778, 8]) torch.Size([182778])\n",
            "torch.Size([22633, 8]) torch.Size([22633])\n",
            "torch.Size([22735, 8]) torch.Size([22735])\n"
          ]
        }
      ]
    },
    {
      "cell_type": "code",
      "source": [
        "class Linear:\n",
        "\n",
        "  def __init__(self,fan_in,fan_out,bias=True):\n",
        "    self.weight=torch.randn((fan_in,fan_out),generator=g)/(fan_in**0.5)  #kaiming initialization\n",
        "    self.bias=torch.zeros(fan_out) if bias else None\n",
        "\n",
        "  def __call__(self,x):\n",
        "    self.out=x@self.weight\n",
        "    if self.bias is not None:\n",
        "      self.out+=self.bias\n",
        "\n",
        "    return self.out\n",
        "\n",
        "\n",
        "  def parameters(self):\n",
        "    return [self.weight]+([] if self.bias is None else [self.bias])\n",
        "\n",
        "#--------------------------------------------------------------------------------------------------------------------------\n",
        "\n",
        "class BatchNorm1d:\n",
        "\n",
        "  def __init__(self,dim,eps=1e-5,momentum=1e-1):\n",
        "    self.eps=eps\n",
        "    self.momentum=momentum\n",
        "\n",
        "    self.training=True\n",
        "\n",
        "    #parameters(trained with backprop)\n",
        "\n",
        "    self.gamma=torch.ones(dim)\n",
        "    self.beta=torch.zeros(dim)\n",
        "\n",
        "    #buffers(trained with a running ' momentun update')\n",
        "    self.running_mean=torch.zeros(dim)\n",
        "    self.running_var=torch.ones(dim)\n",
        "\n",
        "\n",
        "  def __call__(self,x):\n",
        "    #calculate the forward pass\n",
        "    if self.training:\n",
        "      if x.ndim == 2:\n",
        "        dim=0\n",
        "      elif x.ndim == 3:\n",
        "        dim=(0,1)\n",
        "      xmean=x.mean(dim,keepdim=True) #batch mean\n",
        "      xvar=x.var(dim,keepdim=True)   #batch variance\n",
        "    else :\n",
        "      xmean=self.running_mean\n",
        "      xvar=self.running_var\n",
        "\n",
        "    xhat=(x-xmean)/torch.sqrt(xvar+self.eps)  #normalize to unit variance\n",
        "\n",
        "    self.out=self.gamma*xhat+self.beta\n",
        "\n",
        "    #update the buffers\n",
        "\n",
        "    if self.training:\n",
        "      with torch.no_grad(): # torch.no grad context manager so that pytorch does not create a computational graph. This saves memory\n",
        "        self.running_mean=(1-self.momentum)*self.running_mean + self.momentum*xmean\n",
        "        self.running_var=(1-self.momentum)*self.running_var+ self.momentum*xvar\n",
        "\n",
        "    return self.out\n",
        "\n",
        "\n",
        "  def parameters(self):\n",
        "    return [self.gamma,self.beta]\n",
        "\n",
        "#--------------------------------------------------------------------------------------------------------------------------\n",
        "\n",
        "class Tanh:\n",
        "  def __call__(self,x):\n",
        "    self.out=torch.tanh(x)\n",
        "    return self.out\n",
        "\n",
        "  def parameters(self):\n",
        "    return []\n",
        "#--------------------------------------------------------------------------------------------------------------------------\n",
        "\n",
        "class Embedding:\n",
        "\n",
        "  def __init__(self,num_embeddings,embedding_dim):\n",
        "    self.weight=torch.randn((num_embeddings,embedding_dim))\n",
        "\n",
        "\n",
        "  def __call__(self,IX):\n",
        "    self.out=self.weight[IX]\n",
        "    return self.out\n",
        "\n",
        "  def parameters(self):\n",
        "    return [self.weight]\n",
        "\n",
        "#--------------------------------------------------------------------------------------------------------------------------\n",
        "\n",
        "\n",
        "class FlattenConsecutive:\n",
        "\n",
        "  def __init__(self,n):\n",
        "    self.n=n\n",
        "\n",
        "  def __call__(self,x):\n",
        "    B,T,C=x.shape\n",
        "\n",
        "    x=x.view(B, T//self.n ,C*self.n)\n",
        "\n",
        "    if x.shape[1] == 1:\n",
        "      x=x.squeeze(1)\n",
        "    self.out=x\n",
        "\n",
        "    return self.out\n",
        "\n",
        "\n",
        "  def parameters(self):\n",
        "    return []\n",
        "\n",
        "#--------------------------------------------------------------------------------------------------------------------------\n",
        "\n",
        "class Sequential:\n",
        "\n",
        "  def __init__(self,layers):\n",
        "    self.layers=layers\n",
        "\n",
        "\n",
        "  def __call__(self,x):\n",
        "\n",
        "    for layer in self.layers:\n",
        "      x=layer(x)\n",
        "\n",
        "    self.out=x\n",
        "    return self.out\n",
        "\n",
        "  def parameters(self):\n",
        "\n",
        "    # get parameters of all the layers and stretch them into one list\n",
        "\n",
        "    return [p for layer in self.layers for p in layer.parameters()]\n"
      ],
      "metadata": {
        "id": "hNz29sSfAO0e"
      },
      "execution_count": 89,
      "outputs": []
    },
    {
      "cell_type": "code",
      "source": [
        "n_embed=10 # the dimensonality of character embedding vectors\n",
        "n_hidden=68 # the number of neurons in the hidden layer of MLP\n",
        "g= torch.Generator().manual_seed(2147483647)\n",
        "\n",
        "\n",
        "model=Sequential([\n",
        "    Embedding(vocab_size,n_embed),\n",
        "\n",
        "    FlattenConsecutive(2),Linear(n_embed*2,n_hidden,bias=False),BatchNorm1d(n_hidden), Tanh(),\n",
        "\n",
        "    FlattenConsecutive(2),Linear(n_hidden*2,n_hidden,bias=False),BatchNorm1d(n_hidden), Tanh(),\n",
        "\n",
        "    FlattenConsecutive(2),Linear(n_hidden*2,n_hidden,bias=False),BatchNorm1d(n_hidden), Tanh(),\n",
        "\n",
        "    Linear(n_hidden,vocab_size)\n",
        "])\n",
        "\n",
        "with torch.no_grad():\n",
        "  # last layer : make less confident\n",
        "  model.layers[-1].weight*=0.1\n",
        "\n",
        "parameters=model.parameters()\n",
        "\n",
        "print (sum(p.nelement() for p in parameters))\n",
        "for p in parameters:\n",
        "  p.requires_grad=True\n"
      ],
      "metadata": {
        "colab": {
          "base_uri": "https://localhost:8080/"
        },
        "id": "ASARJ42cATmD",
        "outputId": "4b8f49f0-6853-475c-a990-2b3d0371efb7"
      },
      "execution_count": 90,
      "outputs": [
        {
          "output_type": "stream",
          "name": "stdout",
          "text": [
            "22397\n"
          ]
        }
      ]
    },
    {
      "cell_type": "code",
      "source": [
        "max_steps=200000\n",
        "batch_size=32\n",
        "lossi=[]\n",
        "ud=[]\n",
        "for i in range(max_steps):\n",
        "\n",
        "  #minibatch construct\n",
        "\n",
        "  ix=torch.randint(0,Xtr.shape[0],(batch_size,),generator=g)\n",
        "  Xb,Yb=Xtr[ix],Ytr[ix]\n",
        "\n",
        "\n",
        "  #forward pass\n",
        "  logits=model(Xb)\n",
        "  loss=F.cross_entropy(logits,Yb)\n",
        "\n",
        "  #backward pass\n",
        "\n",
        "  for layer in model.layers:\n",
        "    layer.out.retain_grad()\n",
        "\n",
        "  for p in parameters:\n",
        "    p.grad=None\n",
        "\n",
        "  loss.backward()\n",
        "\n",
        "  #update\n",
        "\n",
        "  lr= 1e-1 if i <100000 else 1e-2\n",
        "\n",
        "  for p in parameters:\n",
        "    p.data+=-lr*p.grad\n",
        "\n",
        "\n",
        "\n",
        "\n",
        "\n",
        "  #track stats\n",
        "  if i % 10000 == 0:\n",
        "    print(f'{i:7d}/{max_steps:7d}: {loss.item():.4f}')\n",
        "  lossi.append(loss.log10().item())\n",
        "\n",
        "  # break\n",
        "\n",
        "\n"
      ],
      "metadata": {
        "colab": {
          "base_uri": "https://localhost:8080/"
        },
        "id": "dJLYPJWWCNBf",
        "outputId": "bb612ee7-bbd8-4d26-9179-65e20cdcaddb"
      },
      "execution_count": 91,
      "outputs": [
        {
          "output_type": "stream",
          "name": "stdout",
          "text": [
            "      0/ 200000: 3.2908\n",
            "  10000/ 200000: 2.2669\n",
            "  20000/ 200000: 1.8132\n",
            "  30000/ 200000: 1.7732\n",
            "  40000/ 200000: 1.9359\n",
            "  50000/ 200000: 2.1358\n",
            "  60000/ 200000: 2.4044\n",
            "  70000/ 200000: 1.9941\n",
            "  80000/ 200000: 1.6291\n",
            "  90000/ 200000: 1.8505\n",
            " 100000/ 200000: 2.1045\n",
            " 110000/ 200000: 1.5991\n",
            " 120000/ 200000: 1.9762\n",
            " 130000/ 200000: 2.4629\n",
            " 140000/ 200000: 2.0382\n",
            " 150000/ 200000: 2.0637\n",
            " 160000/ 200000: 2.0488\n",
            " 170000/ 200000: 2.0086\n",
            " 180000/ 200000: 2.1395\n",
            " 190000/ 200000: 1.6867\n"
          ]
        }
      ]
    },
    {
      "cell_type": "code",
      "source": [
        "for layer in model.layers:\n",
        "  print(layer.__class__.__name__,':',tuple(layer.out.shape))"
      ],
      "metadata": {
        "colab": {
          "base_uri": "https://localhost:8080/"
        },
        "id": "q5P1eExyCvZR",
        "outputId": "37af20e0-a1af-41ac-a325-afd854fa31e1"
      },
      "execution_count": 92,
      "outputs": [
        {
          "output_type": "stream",
          "name": "stdout",
          "text": [
            "Embedding : (32, 8, 10)\n",
            "FlattenConsecutive : (32, 4, 20)\n",
            "Linear : (32, 4, 68)\n",
            "BatchNorm1d : (32, 4, 68)\n",
            "Tanh : (32, 4, 68)\n",
            "FlattenConsecutive : (32, 2, 136)\n",
            "Linear : (32, 2, 68)\n",
            "BatchNorm1d : (32, 2, 68)\n",
            "Tanh : (32, 2, 68)\n",
            "FlattenConsecutive : (32, 136)\n",
            "Linear : (32, 68)\n",
            "BatchNorm1d : (32, 68)\n",
            "Tanh : (32, 68)\n",
            "Linear : (32, 27)\n"
          ]
        }
      ]
    },
    {
      "cell_type": "code",
      "source": [
        "plt.plot(torch.tensor(lossi).view(-1,1000).mean(1))"
      ],
      "metadata": {
        "colab": {
          "base_uri": "https://localhost:8080/",
          "height": 447
        },
        "id": "hjVeB0zDCVer",
        "outputId": "4c083fa5-8822-4b7c-af48-28edc758e0bf"
      },
      "execution_count": 93,
      "outputs": [
        {
          "output_type": "execute_result",
          "data": {
            "text/plain": [
              "[<matplotlib.lines.Line2D at 0x7fb84105a090>]"
            ]
          },
          "metadata": {},
          "execution_count": 93
        },
        {
          "output_type": "display_data",
          "data": {
            "text/plain": [
              "<Figure size 640x480 with 1 Axes>"
            ],
            "image/png": "[encoded data removed]"
          },
          "metadata": {}
        }
      ]
    },
    {
      "cell_type": "code",
      "source": [
        "@torch.no_grad() # this decorator disables gradient tracking\n",
        "def split_loss(split):\n",
        "  x,y = {\n",
        "    'train': (Xtr, Ytr),\n",
        "    'val': (Xdev, Ydev),\n",
        "    'test': (Xte, Yte),\n",
        "  }[split]\n",
        "  logits=model(x)\n",
        "  loss = F.cross_entropy(logits, y)\n",
        "  print(split, loss.item())\n",
        "\n",
        "# put layers into eval mode\n",
        "for layer in model.layers:\n",
        "  layer.training = False\n",
        "split_loss('train')\n",
        "split_loss('val')"
      ],
      "metadata": {
        "colab": {
          "base_uri": "https://localhost:8080/"
        },
        "id": "dXUBsXfdGN1J",
        "outputId": "fedd193d-0161-43ef-da4c-9a2ff69d8948"
      },
      "execution_count": 94,
      "outputs": [
        {
          "output_type": "stream",
          "name": "stdout",
          "text": [
            "train 1.8757989406585693\n",
            "val 2.2567098140716553\n"
          ]
        }
      ]
    },
    {
      "cell_type": "code",
      "source": [
        "for layer in model.layers:\n",
        "  print(layer.training)\n",
        "  # layer.training=False"
      ],
      "metadata": {
        "id": "94l7YBKnGhay"
      },
      "execution_count": null,
      "outputs": []
    },
    {
      "cell_type": "code",
      "source": [
        "# sample from the model\n",
        "g = torch.Generator().manual_seed(2147483647 + 10)\n",
        "\n",
        "for _ in range(20):\n",
        "\n",
        "    out = []\n",
        "    context = [0] * block_size # initialize with all ...\n",
        "    while True:\n",
        "      # forward pass the neural net\n",
        "\n",
        "      logits=model(torch.tensor([context]))\n",
        "      probs = F.softmax(logits, dim=1)\n",
        "      # sample from the distribution\n",
        "      ix = torch.multinomial(probs, num_samples=1, generator=g).item()\n",
        "      # shift the context window and track the samples\n",
        "      context = context[1:] + [ix]\n",
        "      out.append(ix)\n",
        "      # if we sample the special '.' token, break\n",
        "      if ix == 0:\n",
        "        break\n",
        "\n",
        "    print(''.join(itos[i] for i in out)) # decode and print the generated word"
      ],
      "metadata": {
        "colab": {
          "base_uri": "https://localhost:8080/"
        },
        "id": "UBmT5_NQGmPK",
        "outputId": "de14f129-1a3e-454f-912e-454c6dabbb1d"
      },
      "execution_count": 95,
      "outputs": [
        {
          "output_type": "stream",
          "name": "stdout",
          "text": [
            "monailah.\n",
            "zhayel.\n",
            "nihaya.\n",
            "arethan.\n",
            "ejdra.\n",
            "graxce.\n",
            "daelin.\n",
            "shivaea.\n",
            "edelie.\n",
            "maxar.\n",
            "katuillous.\n",
            "caysha.\n",
            "vrishima.\n",
            "stone.\n",
            "renelle.\n",
            "novalyn.\n",
            "brenden.\n",
            "jamell.\n",
            "elsy.\n",
            "majaya.\n"
          ]
        }
      ]
    },
    {
      "cell_type": "markdown",
      "source": [
        "# DEBUGGING"
      ],
      "metadata": {
        "id": "JMuQ9gULErh7"
      }
    },
    {
      "cell_type": "code",
      "source": [
        "model.layers[0].out.shape  # output of the Embedding layer"
      ],
      "metadata": {
        "id": "Pmr1aTPZG4oQ",
        "colab": {
          "base_uri": "https://localhost:8080/"
        },
        "outputId": "04761a3e-373e-496f-f96b-e22bc99d2579"
      },
      "execution_count": 66,
      "outputs": [
        {
          "output_type": "execute_result",
          "data": {
            "text/plain": [
              "torch.Size([4, 8, 10])"
            ]
          },
          "metadata": {},
          "execution_count": 66
        }
      ]
    },
    {
      "cell_type": "code",
      "source": [
        "model.layers[1].out.shape  # output of Flatten layer"
      ],
      "metadata": {
        "colab": {
          "base_uri": "https://localhost:8080/"
        },
        "id": "w9e3eZWD84Ou",
        "outputId": "7ea94986-7420-45d9-b345-e43484819753"
      },
      "execution_count": 67,
      "outputs": [
        {
          "output_type": "execute_result",
          "data": {
            "text/plain": [
              "torch.Size([4, 80])"
            ]
          },
          "metadata": {},
          "execution_count": 67
        }
      ]
    },
    {
      "cell_type": "code",
      "source": [
        "model.layers[2].out.shape  # output of  Linear layer"
      ],
      "metadata": {
        "colab": {
          "base_uri": "https://localhost:8080/"
        },
        "id": "CXTw13tr9co5",
        "outputId": "c9a1257c-c8bc-41a9-e0a2-138269a0dadf"
      },
      "execution_count": 68,
      "outputs": [
        {
          "output_type": "execute_result",
          "data": {
            "text/plain": [
              "torch.Size([4, 200])"
            ]
          },
          "metadata": {},
          "execution_count": 68
        }
      ]
    },
    {
      "cell_type": "code",
      "source": [
        "(torch.randn(4,4,20)@torch.randn(20,200) +torch.randn(200)).shape"
      ],
      "metadata": {
        "colab": {
          "base_uri": "https://localhost:8080/"
        },
        "id": "rSRIbph29gWa",
        "outputId": "8e0c260c-4ffa-4610-abe1-be32f2691a18"
      },
      "execution_count": 54,
      "outputs": [
        {
          "output_type": "execute_result",
          "data": {
            "text/plain": [
              "torch.Size([4, 4, 200])"
            ]
          },
          "metadata": {},
          "execution_count": 54
        }
      ]
    },
    {
      "cell_type": "code",
      "source": [
        "# (1,2)  (3,4)  (5,6)  (7,8)"
      ],
      "metadata": {
        "id": "mtjJ7VNOAh_4"
      },
      "execution_count": 55,
      "outputs": []
    },
    {
      "cell_type": "code",
      "source": [
        "list(range(10))[::2]"
      ],
      "metadata": {
        "colab": {
          "base_uri": "https://localhost:8080/"
        },
        "id": "8yUJwrb5And2",
        "outputId": "db923643-1600-4fb3-e393-a298b0a0f374"
      },
      "execution_count": 56,
      "outputs": [
        {
          "output_type": "execute_result",
          "data": {
            "text/plain": [
              "[0, 2, 4, 6, 8]"
            ]
          },
          "metadata": {},
          "execution_count": 56
        }
      ]
    },
    {
      "cell_type": "code",
      "source": [
        "list(range(10))[1::2]"
      ],
      "metadata": {
        "colab": {
          "base_uri": "https://localhost:8080/"
        },
        "id": "0KG7XpZ7ArHQ",
        "outputId": "d0ad06df-acc5-4447-f0bc-db7eb3c952bb"
      },
      "execution_count": 57,
      "outputs": [
        {
          "output_type": "execute_result",
          "data": {
            "text/plain": [
              "[1, 3, 5, 7, 9]"
            ]
          },
          "metadata": {},
          "execution_count": 57
        }
      ]
    },
    {
      "cell_type": "code",
      "source": [
        "e=torch.randn(4,8,10) # goal want this to be (4,4,20 ) where consecutive 10-dimensional vectors get concatenated\n",
        "\n",
        "explicit=torch.cat([e[:,::2,:],e[:,1::2,:]],dim=2)\n",
        "explicit.shape"
      ],
      "metadata": {
        "colab": {
          "base_uri": "https://localhost:8080/"
        },
        "id": "AO72SnsXAs0P",
        "outputId": "46c9b7d8-dd64-49dc-a24f-5eaabbb7b51f"
      },
      "execution_count": 58,
      "outputs": [
        {
          "output_type": "execute_result",
          "data": {
            "text/plain": [
              "torch.Size([4, 4, 20])"
            ]
          },
          "metadata": {},
          "execution_count": 58
        }
      ]
    },
    {
      "cell_type": "code",
      "source": [
        "(e.view(4,4,20) == explicit).all()"
      ],
      "metadata": {
        "colab": {
          "base_uri": "https://localhost:8080/"
        },
        "id": "Tb1Cy7JDBDBL",
        "outputId": "122a185f-6b8e-4fce-f0d3-fe1989529b05"
      },
      "execution_count": 60,
      "outputs": [
        {
          "output_type": "execute_result",
          "data": {
            "text/plain": [
              "tensor(True)"
            ]
          },
          "metadata": {},
          "execution_count": 60
        }
      ]
    },
    {
      "cell_type": "code",
      "source": [],
      "metadata": {
        "id": "YfM_usdeBHM0"
      },
      "execution_count": null,
      "outputs": []
    }
  ]
}