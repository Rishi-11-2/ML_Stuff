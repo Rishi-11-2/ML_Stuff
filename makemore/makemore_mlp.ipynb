{
  "nbformat": 4,
  "nbformat_minor": 0,
  "metadata": {
    "colab": {
      "provenance": []
    },
    "kernelspec": {
      "name": "python3",
      "display_name": "Python 3"
    },
    "language_info": {
      "name": "python"
    }
  },
  "cells": [
    {
      "cell_type": "code",
      "execution_count": null,
      "metadata": {
        "colab": {
          "base_uri": "https://localhost:8080/"
        },
        "id": "UbIqtPj4mfi1",
        "outputId": "ecdde2d4-6e3c-400e-ab87-ffd266bfe8c6"
      },
      "outputs": [
        {
          "output_type": "stream",
          "name": "stdout",
          "text": [
            "Requirement already satisfied: torch in /usr/local/lib/python3.11/dist-packages (2.6.0+cu124)\n",
            "Requirement already satisfied: matplotlib in /usr/local/lib/python3.11/dist-packages (3.10.0)\n",
            "Requirement already satisfied: filelock in /usr/local/lib/python3.11/dist-packages (from torch) (3.18.0)\n",
            "Requirement already satisfied: typing-extensions>=4.10.0 in /usr/local/lib/python3.11/dist-packages (from torch) (4.14.0)\n",
            "Requirement already satisfied: networkx in /usr/local/lib/python3.11/dist-packages (from torch) (3.5)\n",
            "Requirement already satisfied: jinja2 in /usr/local/lib/python3.11/dist-packages (from torch) (3.1.6)\n",
            "Requirement already satisfied: fsspec in /usr/local/lib/python3.11/dist-packages (from torch) (2025.3.2)\n",
            "Requirement already satisfied: nvidia-cuda-nvrtc-cu12==12.4.127 in /usr/local/lib/python3.11/dist-packages (from torch) (12.4.127)\n",
            "Requirement already satisfied: nvidia-cuda-runtime-cu12==12.4.127 in /usr/local/lib/python3.11/dist-packages (from torch) (12.4.127)\n",
            "Requirement already satisfied: nvidia-cuda-cupti-cu12==12.4.127 in /usr/local/lib/python3.11/dist-packages (from torch) (12.4.127)\n",
            "Requirement already satisfied: nvidia-cudnn-cu12==9.1.0.70 in /usr/local/lib/python3.11/dist-packages (from torch) (9.1.0.70)\n",
            "Requirement already satisfied: nvidia-cublas-cu12==12.4.5.8 in /usr/local/lib/python3.11/dist-packages (from torch) (12.4.5.8)\n",
            "Requirement already satisfied: nvidia-cufft-cu12==11.2.1.3 in /usr/local/lib/python3.11/dist-packages (from torch) (11.2.1.3)\n",
            "Requirement already satisfied: nvidia-curand-cu12==10.3.5.147 in /usr/local/lib/python3.11/dist-packages (from torch) (10.3.5.147)\n",
            "Requirement already satisfied: nvidia-cusolver-cu12==11.6.1.9 in /usr/local/lib/python3.11/dist-packages (from torch) (11.6.1.9)\n",
            "Requirement already satisfied: nvidia-cusparse-cu12==12.3.1.170 in /usr/local/lib/python3.11/dist-packages (from torch) (12.3.1.170)\n",
            "Requirement already satisfied: nvidia-cusparselt-cu12==0.6.2 in /usr/local/lib/python3.11/dist-packages (from torch) (0.6.2)\n",
            "Requirement already satisfied: nvidia-nccl-cu12==2.21.5 in /usr/local/lib/python3.11/dist-packages (from torch) (2.21.5)\n",
            "Requirement already satisfied: nvidia-nvtx-cu12==12.4.127 in /usr/local/lib/python3.11/dist-packages (from torch) (12.4.127)\n",
            "Requirement already satisfied: nvidia-nvjitlink-cu12==12.4.127 in /usr/local/lib/python3.11/dist-packages (from torch) (12.4.127)\n",
            "Requirement already satisfied: triton==3.2.0 in /usr/local/lib/python3.11/dist-packages (from torch) (3.2.0)\n",
            "Requirement already satisfied: sympy==1.13.1 in /usr/local/lib/python3.11/dist-packages (from torch) (1.13.1)\n",
            "Requirement already satisfied: mpmath<1.4,>=1.1.0 in /usr/local/lib/python3.11/dist-packages (from sympy==1.13.1->torch) (1.3.0)\n",
            "Requirement already satisfied: contourpy>=1.0.1 in /usr/local/lib/python3.11/dist-packages (from matplotlib) (1.3.2)\n",
            "Requirement already satisfied: cycler>=0.10 in /usr/local/lib/python3.11/dist-packages (from matplotlib) (0.12.1)\n",
            "Requirement already satisfied: fonttools>=4.22.0 in /usr/local/lib/python3.11/dist-packages (from matplotlib) (4.58.1)\n",
            "Requirement already satisfied: kiwisolver>=1.3.1 in /usr/local/lib/python3.11/dist-packages (from matplotlib) (1.4.8)\n",
            "Requirement already satisfied: numpy>=1.23 in /usr/local/lib/python3.11/dist-packages (from matplotlib) (2.0.2)\n",
            "Requirement already satisfied: packaging>=20.0 in /usr/local/lib/python3.11/dist-packages (from matplotlib) (24.2)\n",
            "Requirement already satisfied: pillow>=8 in /usr/local/lib/python3.11/dist-packages (from matplotlib) (11.2.1)\n",
            "Requirement already satisfied: pyparsing>=2.3.1 in /usr/local/lib/python3.11/dist-packages (from matplotlib) (3.2.3)\n",
            "Requirement already satisfied: python-dateutil>=2.7 in /usr/local/lib/python3.11/dist-packages (from matplotlib) (2.9.0.post0)\n",
            "Requirement already satisfied: six>=1.5 in /usr/local/lib/python3.11/dist-packages (from python-dateutil>=2.7->matplotlib) (1.17.0)\n",
            "Requirement already satisfied: MarkupSafe>=2.0 in /usr/local/lib/python3.11/dist-packages (from jinja2->torch) (3.0.2)\n"
          ]
        }
      ],
      "source": [
        "pip install torch matplotlib"
      ]
    },
    {
      "cell_type": "code",
      "source": [
        "import torch\n",
        "import torch.nn.functional as F\n",
        "import matplotlib.pyplot as plt\n",
        "%matplotlib inline"
      ],
      "metadata": {
        "id": "VjRKmiqrEJfu"
      },
      "execution_count": null,
      "outputs": []
    },
    {
      "cell_type": "code",
      "source": [
        "words=open('names.txt','r').read().splitlines()\n"
      ],
      "metadata": {
        "id": "X9azN3JOEeRx"
      },
      "execution_count": null,
      "outputs": []
    },
    {
      "cell_type": "code",
      "source": [
        "chars=sorted(list(set(''.join(words))))\n",
        "stoi={s:i+1 for i, s in enumerate(chars) }\n",
        "stoi['.']=0\n",
        "itos={i:s for s, i  in stoi.items()}\n",
        "print(itos)"
      ],
      "metadata": {
        "colab": {
          "base_uri": "https://localhost:8080/"
        },
        "id": "a46LPGWnEl2r",
        "outputId": "b658ef3a-e23f-4438-e6ad-f0771bc7d30f"
      },
      "execution_count": null,
      "outputs": [
        {
          "output_type": "stream",
          "name": "stdout",
          "text": [
            "{1: 'a', 2: 'b', 3: 'c', 4: 'd', 5: 'e', 6: 'f', 7: 'g', 8: 'h', 9: 'i', 10: 'j', 11: 'k', 12: 'l', 13: 'm', 14: 'n', 15: 'o', 16: 'p', 17: 'q', 18: 'r', 19: 's', 20: 't', 21: 'u', 22: 'v', 23: 'w', 24: 'x', 25: 'y', 26: 'z', 0: '.'}\n"
          ]
        }
      ]
    },
    {
      "cell_type": "code",
      "source": [
        "#build the dataset\n",
        "block_size=3 # context length , how many characters  do we take to predict the next one\n",
        "X,Y = [],[]\n",
        "\n",
        "for w in words[:5]:\n",
        "  print(w)\n",
        "  context=block_size*[0]\n",
        "  for ch in w + \".\":\n",
        "    ix=stoi[ch]\n",
        "    X.append(context)\n",
        "    Y.append(ix)\n",
        "\n",
        "    print(''.join(itos[i] for i in context),'-->',ch)\n",
        "    context=context[1:]+[ix]\n",
        "\n",
        "X=torch.tensor(X)\n",
        "Y=torch.tensor(Y)\n",
        "\n"
      ],
      "metadata": {
        "colab": {
          "base_uri": "https://localhost:8080/"
        },
        "id": "f8ps1cErE9oE",
        "outputId": "2fd7957b-aa66-427b-ff58-7c783a4a1bbf"
      },
      "execution_count": null,
      "outputs": [
        {
          "output_type": "stream",
          "name": "stdout",
          "text": [
            "emma\n",
            "... --> e\n",
            "..e --> m\n",
            ".em --> m\n",
            "emm --> a\n",
            "mma --> .\n",
            "olivia\n",
            "... --> o\n",
            "..o --> l\n",
            ".ol --> i\n",
            "oli --> v\n",
            "liv --> i\n",
            "ivi --> a\n",
            "via --> .\n",
            "ava\n",
            "... --> a\n",
            "..a --> v\n",
            ".av --> a\n",
            "ava --> .\n",
            "isabella\n",
            "... --> i\n",
            "..i --> s\n",
            ".is --> a\n",
            "isa --> b\n",
            "sab --> e\n",
            "abe --> l\n",
            "bel --> l\n",
            "ell --> a\n",
            "lla --> .\n",
            "sophia\n",
            "... --> s\n",
            "..s --> o\n",
            ".so --> p\n",
            "sop --> h\n",
            "oph --> i\n",
            "phi --> a\n",
            "hia --> .\n"
          ]
        }
      ]
    },
    {
      "cell_type": "code",
      "source": [
        "X.dtype,Y.dtype,X.shape,Y.shape"
      ],
      "metadata": {
        "colab": {
          "base_uri": "https://localhost:8080/"
        },
        "id": "sQNAorgwGITy",
        "outputId": "52eb4153-e3b3-4102-c0cc-87cc4ad3f2cf"
      },
      "execution_count": null,
      "outputs": [
        {
          "output_type": "execute_result",
          "data": {
            "text/plain": [
              "(torch.int64, torch.int64, torch.Size([32, 3]), torch.Size([32]))"
            ]
          },
          "metadata": {},
          "execution_count": 9
        }
      ]
    },
    {
      "cell_type": "code",
      "source": [
        "X"
      ],
      "metadata": {
        "colab": {
          "base_uri": "https://localhost:8080/"
        },
        "id": "krP7pBwIG2ia",
        "outputId": "c4f3fc7b-c285-43ae-9cf0-a6928ca8b6d6"
      },
      "execution_count": null,
      "outputs": [
        {
          "output_type": "execute_result",
          "data": {
            "text/plain": [
              "tensor([[ 0,  0,  0],\n",
              "        [ 0,  0,  5],\n",
              "        [ 0,  5, 13],\n",
              "        [ 5, 13, 13],\n",
              "        [13, 13,  1],\n",
              "        [ 0,  0,  0],\n",
              "        [ 0,  0, 15],\n",
              "        [ 0, 15, 12],\n",
              "        [15, 12,  9],\n",
              "        [12,  9, 22],\n",
              "        [ 9, 22,  9],\n",
              "        [22,  9,  1],\n",
              "        [ 0,  0,  0],\n",
              "        [ 0,  0,  1],\n",
              "        [ 0,  1, 22],\n",
              "        [ 1, 22,  1],\n",
              "        [ 0,  0,  0],\n",
              "        [ 0,  0,  9],\n",
              "        [ 0,  9, 19],\n",
              "        [ 9, 19,  1],\n",
              "        [19,  1,  2],\n",
              "        [ 1,  2,  5],\n",
              "        [ 2,  5, 12],\n",
              "        [ 5, 12, 12],\n",
              "        [12, 12,  1],\n",
              "        [ 0,  0,  0],\n",
              "        [ 0,  0, 19],\n",
              "        [ 0, 19, 15],\n",
              "        [19, 15, 16],\n",
              "        [15, 16,  8],\n",
              "        [16,  8,  9],\n",
              "        [ 8,  9,  1]])"
            ]
          },
          "metadata": {},
          "execution_count": 10
        }
      ]
    },
    {
      "cell_type": "code",
      "source": [
        "Y"
      ],
      "metadata": {
        "colab": {
          "base_uri": "https://localhost:8080/"
        },
        "id": "hmJdzwO0G2-Q",
        "outputId": "913d9a2e-67e8-4368-b080-9b8b041addb6"
      },
      "execution_count": null,
      "outputs": [
        {
          "output_type": "execute_result",
          "data": {
            "text/plain": [
              "tensor([ 5, 13, 13,  1,  0, 15, 12,  9, 22,  9,  1,  0,  1, 22,  1,  0,  9, 19,\n",
              "         1,  2,  5, 12, 12,  1,  0, 19, 15, 16,  8,  9,  1,  0])"
            ]
          },
          "metadata": {},
          "execution_count": 11
        }
      ]
    },
    {
      "cell_type": "code",
      "source": [
        "C=torch.randn((27,2))"
      ],
      "metadata": {
        "id": "mBd4QVb9G3dm"
      },
      "execution_count": null,
      "outputs": []
    },
    {
      "cell_type": "code",
      "source": [
        "C"
      ],
      "metadata": {
        "id": "n2fMEUOYHJ26",
        "outputId": "e42f7175-a90f-47f1-a4c5-13ef60e3a08d",
        "colab": {
          "base_uri": "https://localhost:8080/"
        }
      },
      "execution_count": null,
      "outputs": [
        {
          "output_type": "execute_result",
          "data": {
            "text/plain": [
              "tensor([[ 0.6284, -1.0050],\n",
              "        [-0.5501, -0.1803],\n",
              "        [-0.2569, -1.2609],\n",
              "        [-1.3932, -0.2579],\n",
              "        [-1.5214,  1.3491],\n",
              "        [-0.6842, -0.3092],\n",
              "        [ 1.3876,  0.1532],\n",
              "        [ 1.0212,  0.1189],\n",
              "        [-1.3516,  0.0431],\n",
              "        [ 0.7169, -0.5086],\n",
              "        [ 1.4976, -0.3509],\n",
              "        [ 0.8028,  1.3017],\n",
              "        [ 0.7047,  0.8074],\n",
              "        [-0.3149,  0.8346],\n",
              "        [ 0.8491, -0.0478],\n",
              "        [-1.2469, -0.1951],\n",
              "        [-1.6911,  2.7674],\n",
              "        [ 0.4800, -0.6123],\n",
              "        [ 1.9359, -0.3627],\n",
              "        [-0.9777, -1.0405],\n",
              "        [ 0.1136,  1.2597],\n",
              "        [ 0.4738,  0.2020],\n",
              "        [ 2.0621, -0.8552],\n",
              "        [-0.3238, -1.4208],\n",
              "        [-0.8583,  0.1805],\n",
              "        [ 0.8866, -0.4371],\n",
              "        [-0.0358,  0.8756]])"
            ]
          },
          "metadata": {},
          "execution_count": 13
        }
      ]
    },
    {
      "cell_type": "code",
      "source": [
        "emb=C[X]\n",
        "emb.shape"
      ],
      "metadata": {
        "colab": {
          "base_uri": "https://localhost:8080/"
        },
        "id": "f5g_8Sc98MV5",
        "outputId": "dd516874-5ee4-4757-bb6c-fc7e4c97e387"
      },
      "execution_count": null,
      "outputs": [
        {
          "output_type": "execute_result",
          "data": {
            "text/plain": [
              "torch.Size([32, 3, 2])"
            ]
          },
          "metadata": {},
          "execution_count": 14
        }
      ]
    },
    {
      "cell_type": "code",
      "source": [
        "torch.cat([emb[:,0,:],emb[:,1,:],emb[:,2,:]],1).shape"
      ],
      "metadata": {
        "colab": {
          "base_uri": "https://localhost:8080/"
        },
        "id": "OBaYvT7lBL3v",
        "outputId": "fd23be98-e786-409d-fc22-75a47ed15fb8"
      },
      "execution_count": null,
      "outputs": [
        {
          "output_type": "execute_result",
          "data": {
            "text/plain": [
              "torch.Size([32, 6])"
            ]
          },
          "metadata": {},
          "execution_count": 15
        }
      ]
    },
    {
      "cell_type": "code",
      "source": [
        "#very inefficient , because it will create a whole new tensor, whereas in view only logical manipulation takes place\n",
        "torch.cat(torch.unbind(emb,1),1).shape"
      ],
      "metadata": {
        "colab": {
          "base_uri": "https://localhost:8080/"
        },
        "id": "grBUJIyl-reR",
        "outputId": "31f9f935-c152-49f8-b9fd-3d2f28f79515"
      },
      "execution_count": null,
      "outputs": [
        {
          "output_type": "execute_result",
          "data": {
            "text/plain": [
              "torch.Size([32, 6])"
            ]
          },
          "metadata": {},
          "execution_count": 16
        }
      ]
    },
    {
      "cell_type": "code",
      "source": [
        "emb.view(32,6).shape"
      ],
      "metadata": {
        "colab": {
          "base_uri": "https://localhost:8080/"
        },
        "id": "FDSLtqDdBEZT",
        "outputId": "4d78c8aa-8452-4456-efeb-57315f90d78d"
      },
      "execution_count": null,
      "outputs": [
        {
          "output_type": "execute_result",
          "data": {
            "text/plain": [
              "torch.Size([32, 6])"
            ]
          },
          "metadata": {},
          "execution_count": 17
        }
      ]
    },
    {
      "cell_type": "code",
      "source": [
        "W1=torch.randn((6,100))\n",
        "b1=torch.randn((100))"
      ],
      "metadata": {
        "id": "meLA9ImDBKfS"
      },
      "execution_count": null,
      "outputs": []
    },
    {
      "cell_type": "code",
      "source": [
        "#here broadcasting takes place vertically\n",
        "\n",
        "# 32 100\n",
        "# 1  100\n",
        "\n",
        "# so same bias will be added to every row vector\n",
        "\n",
        "h=torch.tanh(emb.view(-1,6)@W1 + b1)\n"
      ],
      "metadata": {
        "id": "SdMEXzqVBqbP"
      },
      "execution_count": null,
      "outputs": []
    },
    {
      "cell_type": "code",
      "source": [
        "h.shape"
      ],
      "metadata": {
        "colab": {
          "base_uri": "https://localhost:8080/"
        },
        "id": "DxiB5f7hCMD0",
        "outputId": "477ac1ee-c365-48f6-ea2d-a87a0d5bdfc3"
      },
      "execution_count": null,
      "outputs": [
        {
          "output_type": "execute_result",
          "data": {
            "text/plain": [
              "torch.Size([32, 100])"
            ]
          },
          "metadata": {},
          "execution_count": 20
        }
      ]
    },
    {
      "cell_type": "code",
      "source": [
        "W2=torch.randn((100,27))\n",
        "b2=torch.randn((27))"
      ],
      "metadata": {
        "id": "9nPK7_tbCTOH"
      },
      "execution_count": null,
      "outputs": []
    },
    {
      "cell_type": "code",
      "source": [
        "logits= h @ W2 + b2\n",
        "logits"
      ],
      "metadata": {
        "colab": {
          "base_uri": "https://localhost:8080/"
        },
        "collapsed": true,
        "id": "7-J8PGMaC6B6",
        "outputId": "8d47e6a8-704f-47de-f1ce-73c63f81ae73"
      },
      "execution_count": null,
      "outputs": [
        {
          "output_type": "execute_result",
          "data": {
            "text/plain": [
              "tensor([[ -2.2837,   2.3021, -10.2466, -14.2698, -13.8874, -16.5371,  -5.9134,\n",
              "          -5.1576,  -2.2584,   5.1569,  -0.3051,  17.6188, -13.4594, -14.0204,\n",
              "          12.1585,  -8.7498,   9.8475,  -8.8329,   7.4412,   2.2426,  -1.2279,\n",
              "          22.8348,  -9.0396, -15.8556,   2.7212,  11.4457,  -7.2434],\n",
              "        [ -0.7549,  -5.1957,  -9.3951,  -3.5593,  -0.9498, -16.7695,   4.3597,\n",
              "           1.6337,   3.8639,   5.6066,  -5.1340,  16.2706, -17.7828, -10.0357,\n",
              "           4.0650,  -2.5539,  18.5781,   2.2927,   3.6937,  -0.1357,   3.0242,\n",
              "           9.9727,  -4.7561,  -2.4961,  -3.4993,  14.2908,  -6.1497],\n",
              "        [ -2.5005,  -3.2303, -15.9863,   1.2100,  -4.5930,   0.5225,  13.9877,\n",
              "          -9.3822,  14.2251,  -0.4824,   9.4023,  10.4142, -13.8890,   2.6313,\n",
              "          -5.4930,  19.6387,  11.5900,   5.0469,   3.2175,  -5.2179,   0.1245,\n",
              "          -2.9876,   1.1150,   0.3569, -15.3123,  22.0971,  10.3206],\n",
              "        [-11.5139,  -0.3210,  -6.9639,   6.5357,  -3.4296,  10.0474,  19.0358,\n",
              "          -0.2029,   8.2320,  -5.0418,  10.7435,  -0.9195,  -2.3775,   8.9607,\n",
              "          -2.5233,  20.0439,   2.4779,   2.9639,  -1.6467,  -4.2522,   6.8089,\n",
              "          -2.7526,   7.3096,   8.7750,  -1.3248,  11.0151,  18.5131],\n",
              "        [ -9.0171,   4.3519,   0.5346,  11.7527,  -0.1259,  -1.6971,  13.2635,\n",
              "          -0.5966,  -2.0561,  -2.4519,   2.5254,  -6.0716,   3.5508,  -7.2983,\n",
              "           7.4678,   8.9844,   2.3703,   0.6214,   2.3577,  -6.7541,  -1.0735,\n",
              "           3.7789,   3.9490,   4.7818,  -9.8760, -13.3651,  10.1157],\n",
              "        [ -2.2837,   2.3021, -10.2466, -14.2698, -13.8874, -16.5371,  -5.9134,\n",
              "          -5.1576,  -2.2584,   5.1569,  -0.3051,  17.6188, -13.4594, -14.0204,\n",
              "          12.1585,  -8.7498,   9.8475,  -8.8329,   7.4412,   2.2426,  -1.2279,\n",
              "          22.8348,  -9.0396, -15.8556,   2.7212,  11.4457,  -7.2434],\n",
              "        [ -0.5377,  -6.9246,  -7.3427,   1.0025,   4.3002, -16.9917,   8.6109,\n",
              "           2.7976,   2.7472,   4.5613,  -4.4563,  14.3533, -14.4217,  -8.2839,\n",
              "           0.9738,   0.7071,  19.1288,   4.6143,   2.0116,   0.0548,   2.5581,\n",
              "           4.9063,  -3.6484,   1.2748,  -7.5141,  14.3755,  -6.4366],\n",
              "        [ -2.0456,  -0.4816, -17.5860,  -4.6633,  -9.0711,   7.7350,   6.9995,\n",
              "         -16.4915,  15.2040,  -0.6208,   6.7985,   6.6937, -11.6902,   1.4067,\n",
              "          -2.7016,  16.2814,   1.5192,   6.4729,   5.1553, -10.3825,   3.7494,\n",
              "           4.3484,   6.1331,  -4.5991,  -8.5497,  17.8635,   9.0386],\n",
              "        [-21.8015,   9.0525,   1.3161,   3.5435, -14.1664,   5.9562,  -3.0337,\n",
              "           5.7249,  -6.4348,   6.8942,   3.2675,  -0.7214,   3.8415,   2.1846,\n",
              "          15.0374,   5.4263,   1.5081, -14.6873,   2.3861,  -4.6463,  -6.4022,\n",
              "           7.4106,  -8.5861,  -7.8128,   8.3398,   2.1865,   0.9958],\n",
              "        [ -2.0066,  14.5131,  -7.8167,  -9.2153, -16.0700,  -4.3819, -13.1125,\n",
              "          -6.8000, -15.5029,  17.3979,   2.4952,  -2.6162,   6.1053,  -1.7726,\n",
              "          27.8034, -14.6501,   7.0334, -19.2862,   8.1981,  12.7302,  -9.8610,\n",
              "          17.0753,  -2.6062, -27.6948,  29.0319,  -5.7872,  -5.2191],\n",
              "        [ -7.1135,   8.3802, -15.4280,  -7.7335, -13.2115, -13.4594, -10.6177,\n",
              "           4.8063,  -7.8881,  14.4902,   3.4035,   3.0703,  -5.7417,  -1.6999,\n",
              "          15.4781, -12.4606,  13.8320, -12.7587,  -0.5156,   9.0246,  -7.4994,\n",
              "          12.8370, -11.9805, -20.3538,  27.9770,   5.2467,  -0.5903],\n",
              "        [  4.8703,  -2.9997, -20.2880,  -1.6918,  -1.6074, -20.6976,   1.7803,\n",
              "         -11.8730,   3.6893,   6.1282,   4.7078,   5.0495, -16.9856,  -4.1953,\n",
              "           0.5889,  -3.3883,  19.7491,  -5.9385,   1.9167,   4.6661, -10.1968,\n",
              "           6.2799,  -5.7571,  -9.0684,   5.3636,   7.7328,   5.8585],\n",
              "        [ -2.2837,   2.3021, -10.2466, -14.2698, -13.8874, -16.5371,  -5.9134,\n",
              "          -5.1576,  -2.2584,   5.1569,  -0.3051,  17.6188, -13.4594, -14.0204,\n",
              "          12.1585,  -8.7498,   9.8475,  -8.8329,   7.4412,   2.2426,  -1.2279,\n",
              "          22.8348,  -9.0396, -15.8556,   2.7212,  11.4457,  -7.2434],\n",
              "        [ -1.2866,  -4.8476, -10.3001,  -4.4416,  -2.9764, -16.4952,   3.9697,\n",
              "           1.8773,   5.1662,   5.3962,  -4.7242,  15.5242, -18.1932,  -9.8953,\n",
              "           4.1741,  -2.1781,  18.5577,   1.8640,   3.2868,   0.1698,   3.1854,\n",
              "          10.3126,  -4.0756,  -3.0455,  -2.5701,  15.0954,  -5.0099],\n",
              "        [ -8.1909,   8.5772,  -6.5455, -20.7377, -17.1584,   2.3821,  -8.2522,\n",
              "         -15.5135,   4.8454,  11.4951,   4.7428,  14.1126,  -1.0485,  -6.8417,\n",
              "          13.4224,  -3.2000,  -1.4780, -11.1636,  12.1779,   1.5030,   3.8365,\n",
              "          23.4139,  -7.8201, -13.1545,  -3.8164,  10.3171,   5.6684],\n",
              "        [-13.0747,  -0.5612,   3.3099,   0.5416,  -3.4102, -10.3183,  -5.9248,\n",
              "          19.9684,  -1.3457,   8.9605,   0.4845,   6.4323,  -2.3564,  -3.1861,\n",
              "          14.9703, -11.0619,  12.5123,  -5.9220,  -5.4628,  -2.4198,  -3.8695,\n",
              "          10.3936, -13.8217,  -5.8078,  13.6876,   2.7809,  -7.3070],\n",
              "        [ -2.2837,   2.3021, -10.2466, -14.2698, -13.8874, -16.5371,  -5.9134,\n",
              "          -5.1576,  -2.2584,   5.1569,  -0.3051,  17.6188, -13.4594, -14.0204,\n",
              "          12.1585,  -8.7498,   9.8475,  -8.8329,   7.4412,   2.2426,  -1.2279,\n",
              "          22.8348,  -9.0396, -15.8556,   2.7212,  11.4457,  -7.2434],\n",
              "        [ -4.0276,   1.1571, -15.0742, -13.7155, -16.5666, -18.3597,  -5.5071,\n",
              "          -1.7694,   3.0036,   4.9048,   0.2137,  16.8785, -16.1576, -11.4354,\n",
              "          10.0894,  -6.2600,  11.6278,  -9.3918,   5.9525,   3.4858,   0.3354,\n",
              "          21.8540,  -5.3857, -12.7843,   5.2198,  13.7134,  -3.3440],\n",
              "        [ -1.1193,  -5.5379,  -6.1158,  -4.8249,   4.6203, -13.8778,   4.6475,\n",
              "          -4.8455,   1.8344,   5.0130,  -2.2451,  14.6417, -15.5037, -11.6314,\n",
              "           7.1682,  -4.0284,  16.9028,  -0.5445,   5.6669,  -1.3508,   0.3925,\n",
              "          11.4323,  -8.0810,  -2.4898,  -0.6297,  10.3541,  -4.6418],\n",
              "        [  0.6143,  -2.6972, -14.1175,   0.6353,   0.7528, -10.3846,  11.6690,\n",
              "         -12.9961,   3.6858,   9.7680,  -4.0500,  12.6218, -14.9223,  -9.2100,\n",
              "           5.5047,  11.6196,  10.9278,  10.6855,   7.5329,  -8.3362,   3.9031,\n",
              "           2.7170,  -1.2087,  -1.3697, -14.4699,  13.7980,   2.2741],\n",
              "        [-14.2611,  -5.9956,  -3.0986,  -1.4331,   0.2245,   4.1107,   8.5509,\n",
              "          -0.3455,  -0.4908,   7.3033,  -4.8577,  10.1671,  -6.6196,  -8.3883,\n",
              "          10.4655,   7.4249,  -1.7434,   9.0265,   6.5467,  -9.7098,   7.5915,\n",
              "          16.2091,   3.5575,  -0.6026, -16.0720,  14.9450,  -4.0289],\n",
              "        [ -8.7527,  -5.7812,  -0.6496,   7.2944,   7.9872,  -0.9413,  11.7948,\n",
              "           8.6811,  -2.5010,   1.4289,  -4.1818,   5.6905,  -9.0934,  -5.4466,\n",
              "          11.1521,   2.9444,   7.1455,   8.1154,   6.6092,  -4.9583,   9.7692,\n",
              "           6.2427,   3.7543,  -1.2958, -11.7185,   8.5822, -10.6341],\n",
              "        [ -8.3473,  -0.6132, -14.6286,  -0.5539,  -8.5253,   5.0412,  10.0078,\n",
              "          -4.4518,  16.0465,  -4.1440,   8.0451,   5.4339,  -7.8537,   2.1358,\n",
              "          -2.6759,  18.1875,   4.8951,   2.7315,   3.9344,  -5.0951,   7.8525,\n",
              "           7.2137,   5.0120,  -0.2621,  -8.1851,  24.0570,   3.4559],\n",
              "        [-13.4501,   7.5607,  -5.9496,  -0.1585, -16.9419,   5.5645,   2.9307,\n",
              "           6.8629,   1.3475,  -2.8800,  11.3859,  -5.0278,  -3.6735,  10.3183,\n",
              "           6.8801,   8.1630,  10.1298, -14.3129,  -4.2957,  -2.1884,  -2.1434,\n",
              "          -1.1954,  -6.7468,  -0.2610,  15.0659,   8.1244,  12.9089],\n",
              "        [  2.4030,   9.7254,  -2.6608,   1.5877,  -4.8594,  -4.6950,   1.5595,\n",
              "          -1.7594,  -3.9141,   2.8906,  14.2819,  -6.1623,   0.5377,  -2.3708,\n",
              "           7.9318,  -2.1185,  12.3790,  -5.4760,  -1.8278,   0.1172, -10.2204,\n",
              "           7.2614,  -4.0014,  -4.1399,  13.4861, -17.2048,   9.0546],\n",
              "        [ -2.2837,   2.3021, -10.2466, -14.2698, -13.8874, -16.5371,  -5.9134,\n",
              "          -5.1576,  -2.2584,   5.1569,  -0.3051,  17.6188, -13.4594, -14.0204,\n",
              "          12.1585,  -8.7498,   9.8475,  -8.8329,   7.4412,   2.2426,  -1.2279,\n",
              "          22.8348,  -9.0396, -15.8556,   2.7212,  11.4457,  -7.2434],\n",
              "        [ -1.0404,  -6.1024,  -7.2048,  -2.0430,   5.8157, -16.8996,   4.3487,\n",
              "          -1.4421,  -0.1808,   5.4562,  -4.8697,  18.0061, -16.0337, -11.0839,\n",
              "           5.0256,  -5.2679,  16.2392,   2.1357,   5.5235,  -0.7898,   2.1404,\n",
              "          10.8588,  -6.3692,  -2.7249,  -4.4460,  10.7819,  -8.8386],\n",
              "        [  0.9604,  -5.5999,  -9.6345,   4.4239,   5.6285,  -7.5759,  12.3728,\n",
              "          -7.7548,   5.6905,  11.0811,  -7.0187,  15.1488, -14.3704,  -7.7909,\n",
              "           3.0604,  11.2504,  11.6210,  11.3352,   7.5476,  -9.8926,   2.5954,\n",
              "          -0.7606,  -2.5336,   5.4056, -20.2910,  16.5904,  -0.0482],\n",
              "        [ -4.7746, -12.7150,  -4.8875,  12.2770,   8.0323,   1.2870,  18.4493,\n",
              "           5.9350,   8.4991, -15.9441,  -0.7271,   5.0847,  -9.0822,   8.5864,\n",
              "         -19.0169,  22.6671,   0.7928,   5.0113, -10.3406,  -5.5086,  12.5021,\n",
              "          -9.6999,  20.3407,  11.5390, -19.7103,  14.3217,   3.9391],\n",
              "        [ -5.7546,   1.3739,  -0.4726,   3.6349,  -1.9047,   9.5229,  15.2526,\n",
              "          -8.6060,   8.9563,   2.2700,   8.5402,   1.5070,   2.6417,  -0.3259,\n",
              "          -0.1033,  10.2680,  -1.9742,   4.6383,   0.8355,  -8.1560,   7.4549,\n",
              "           2.8307,   0.7654,  14.0425, -16.3969,   3.9216,  21.7064],\n",
              "        [ -6.6136,   8.5559,   8.3474,  13.2655,  10.4739,   6.1052,   9.0517,\n",
              "           0.4392, -11.3335, -15.7451,   2.2883, -15.8679,  13.5111, -12.5540,\n",
              "          13.0124,  -4.6538,  -1.9438,   0.4089,   2.8433,  -1.6509,   3.8392,\n",
              "          -0.8396,   6.2342,  -6.5037, -15.6889, -18.7641,  -1.8327],\n",
              "        [-16.1204,  -6.5501,   5.0476,   9.1733,  -3.1470,   4.7709,   4.0912,\n",
              "          20.4426,  -6.8890,   2.1132,  -3.2222,   2.3875,  -2.3225,  -4.2277,\n",
              "          10.5907,   4.8539,   4.8446,   2.6584,  -1.5501,  -5.6116,   4.3902,\n",
              "           3.4636,  -0.1026,   0.7755,  -4.9884,   1.4340,  -3.6279]])"
            ]
          },
          "metadata": {},
          "execution_count": 22
        }
      ]
    },
    {
      "cell_type": "code",
      "source": [
        "logits.shape"
      ],
      "metadata": {
        "colab": {
          "base_uri": "https://localhost:8080/"
        },
        "id": "n_rRYF4-C_SW",
        "outputId": "72282618-6406-4264-d7b2-ba63b2fd651d"
      },
      "execution_count": null,
      "outputs": [
        {
          "output_type": "execute_result",
          "data": {
            "text/plain": [
              "torch.Size([32, 27])"
            ]
          },
          "metadata": {},
          "execution_count": 23
        }
      ]
    },
    {
      "cell_type": "code",
      "source": [
        "counts=logits.exp()\n",
        "probs=counts/counts.sum(1,keepdims=True)"
      ],
      "metadata": {
        "id": "VrklRarrDEZ6"
      },
      "execution_count": null,
      "outputs": []
    },
    {
      "cell_type": "code",
      "source": [
        "probs.shape"
      ],
      "metadata": {
        "colab": {
          "base_uri": "https://localhost:8080/"
        },
        "id": "op_x-mjzDNOq",
        "outputId": "4d5968e0-740b-4602-c07d-122801685543"
      },
      "execution_count": null,
      "outputs": [
        {
          "output_type": "execute_result",
          "data": {
            "text/plain": [
              "torch.Size([32, 27])"
            ]
          },
          "metadata": {},
          "execution_count": 25
        }
      ]
    },
    {
      "cell_type": "code",
      "source": [
        "probs[0].sum()"
      ],
      "metadata": {
        "colab": {
          "base_uri": "https://localhost:8080/"
        },
        "id": "l5T_888BDN7y",
        "outputId": "4700df45-a43d-42ab-cad2-c96f2367b5a5"
      },
      "execution_count": null,
      "outputs": [
        {
          "output_type": "execute_result",
          "data": {
            "text/plain": [
              "tensor(1.)"
            ]
          },
          "metadata": {},
          "execution_count": 26
        }
      ]
    },
    {
      "cell_type": "code",
      "source": [
        "#negative log likelihood\n",
        "loss=-probs[torch.arange(32),Y].log().mean()\n",
        "loss"
      ],
      "metadata": {
        "colab": {
          "base_uri": "https://localhost:8080/"
        },
        "id": "BC4_i_IaDToi",
        "outputId": "9c8bd7b4-bcfd-433e-a7e1-e0f6e1a986c5"
      },
      "execution_count": null,
      "outputs": [
        {
          "output_type": "execute_result",
          "data": {
            "text/plain": [
              "tensor(21.0684)"
            ]
          },
          "metadata": {},
          "execution_count": 27
        }
      ]
    },
    {
      "cell_type": "markdown",
      "source": [
        "# EVERYTHING TOGETHER"
      ],
      "metadata": {
        "id": "Q76F08ijD-E7"
      }
    },
    {
      "cell_type": "code",
      "source": [
        "import torch.nn.functional as F"
      ],
      "metadata": {
        "id": "nbXZKarXE8si"
      },
      "execution_count": null,
      "outputs": []
    },
    {
      "cell_type": "code",
      "source": [
        "#build the dataset\n",
        "block_size=3 # context length , how many characters  do we take to predict the next one\n",
        "X,Y = [],[]\n",
        "\n",
        "for w in words:\n",
        "  context=block_size*[0]\n",
        "  for ch in w + \".\":\n",
        "    ix=stoi[ch]\n",
        "    X.append(context)\n",
        "    Y.append(ix)\n",
        "\n",
        "    context=context[1:]+[ix]\n",
        "\n",
        "X=torch.tensor(X)\n",
        "Y=torch.tensor(Y)\n",
        "\n"
      ],
      "metadata": {
        "id": "jFQz1FpGIDnE"
      },
      "execution_count": null,
      "outputs": []
    },
    {
      "cell_type": "code",
      "source": [
        "# Dataset\n",
        "X.shape,Y.shape"
      ],
      "metadata": {
        "colab": {
          "base_uri": "https://localhost:8080/"
        },
        "id": "8mr265n2EA8_",
        "outputId": "cf4e2647-95ca-434a-c40c-fbbb25259e05"
      },
      "execution_count": null,
      "outputs": [
        {
          "output_type": "execute_result",
          "data": {
            "text/plain": [
              "(torch.Size([228146, 3]), torch.Size([228146]))"
            ]
          },
          "metadata": {},
          "execution_count": 30
        }
      ]
    },
    {
      "cell_type": "code",
      "source": [],
      "metadata": {
        "id": "DHFuYti5e_FX"
      },
      "execution_count": null,
      "outputs": []
    },
    {
      "cell_type": "code",
      "source": [
        "g=torch.Generator().manual_seed(2147483647)\n",
        "C=torch.randn((27,2),generator=g)\n",
        "W1=torch.randn((6,300))\n",
        "b1=torch.randn((300))\n",
        "W2=torch.randn((300,27))\n",
        "b2=torch.randn((27))\n",
        "parameters=[C,W1,b1,W2,b2]\n"
      ],
      "metadata": {
        "id": "Ql92JGv_EFA7"
      },
      "execution_count": null,
      "outputs": []
    },
    {
      "cell_type": "code",
      "source": [
        "sum(p.nelement() for p in parameters)"
      ],
      "metadata": {
        "colab": {
          "base_uri": "https://localhost:8080/"
        },
        "id": "SnQM4RVJEWnV",
        "outputId": "cba8368b-90b9-47d4-f072-104faf73b069"
      },
      "execution_count": null,
      "outputs": [
        {
          "output_type": "execute_result",
          "data": {
            "text/plain": [
              "10281"
            ]
          },
          "metadata": {},
          "execution_count": 32
        }
      ]
    },
    {
      "cell_type": "code",
      "source": [
        "for p in parameters:\n",
        "  p.requires_grad=True"
      ],
      "metadata": {
        "id": "c7OETKOCHAEL"
      },
      "execution_count": null,
      "outputs": []
    },
    {
      "cell_type": "code",
      "source": [
        "lre=torch.linspace(-3,0,1000)\n",
        "lrs=10**lre"
      ],
      "metadata": {
        "id": "OlpNDCtlcE-9"
      },
      "execution_count": null,
      "outputs": []
    },
    {
      "cell_type": "code",
      "source": [
        "lri=[]\n",
        "lossi=[]\n",
        "for i in range(100000):\n",
        "\n",
        "  #mini batch construct\n",
        "  ix=torch.randint(0,X.shape[0],(32,))\n",
        "\n",
        "\n",
        "\n",
        "  #forward pass\n",
        "  emb=C[X[ix]] # (32,3,2)\n",
        "  h=torch.tanh(emb.view(-1,6)@W1 + b1) #(32,100)\n",
        "  logits= h @ W2 + b2  # (32,27)\n",
        "  loss=F.cross_entropy(logits,Y[ix])  #numerically well behaved , kernels are kind of fused so aggregate operations takes place which are efficient\n",
        "  # print(f'Loss at the {i}th iteration is :{loss}')\n",
        "\n",
        "  #backward pass\n",
        "  for p in parameters:\n",
        "    p.grad=None\n",
        "  loss.backward()\n",
        "\n",
        "  #update\n",
        "  # lr=lrs[i]\n",
        "  lr=10**-1\n",
        "  for p in parameters:\n",
        "    p.data+=-lr*p.grad\n",
        "\n",
        "\n",
        "  #track stats\n",
        "  # lri.append(lre[i])\n",
        "  # lossi.append(loss.detach())\n",
        "\n",
        "\n",
        "\n",
        "# print(loss.item())\n",
        "\n",
        "emb=C[X] # (32,3,3)\n",
        "h=torch.tanh(emb.view(-1,6)@W1 + b1) #(32,100)\n",
        "logits= h @ W2 + b2  # (32,27)\n",
        "actual_loss=F.cross_entropy(logits,Y)\n",
        "print(actual_loss)"
      ],
      "metadata": {
        "colab": {
          "base_uri": "https://localhost:8080/"
        },
        "collapsed": true,
        "id": "gR_Hp36pEZcN",
        "outputId": "1dfde715-76fb-4ca6-c43b-78b4d1264522"
      },
      "execution_count": null,
      "outputs": [
        {
          "output_type": "stream",
          "name": "stdout",
          "text": [
            "tensor(2.3501, grad_fn=<NllLossBackward0>)\n"
          ]
        }
      ]
    },
    {
      "cell_type": "code",
      "source": [
        "#finding optimal learning rate  by looking at the graph\n",
        "plt.plot(lri,lossi)"
      ],
      "metadata": {
        "colab": {
          "base_uri": "https://localhost:8080/",
          "height": 447
        },
        "id": "FpYe-VIoJhjs",
        "outputId": "075cb541-b3b5-4ca7-b84d-245cc7303e2d"
      },
      "execution_count": null,
      "outputs": [
        {
          "output_type": "execute_result",
          "data": {
            "text/plain": [
              "[<matplotlib.lines.Line2D at 0x7b3f4329df90>]"
            ]
          },
          "metadata": {},
          "execution_count": 36
        },
        {
          "output_type": "display_data",
          "data": {
            "text/plain": [
              "<Figure size 640x480 with 1 Axes>"
            ],
            "image/png": "[encoded data removed]"
          },
          "metadata": {}
        }
      ]
    },
    {
      "cell_type": "code",
      "source": [
        "# training split , dev/validation split , test split\n",
        "# 80% , 10% , 10%\n",
        "\n",
        "def build_dataset(words):\n",
        "  #build the dataset\n",
        "  block_size=3 # context length , how many characters  do we take to predict the next one\n",
        "  X,Y = [],[]\n",
        "\n",
        "  for w in words:\n",
        "    context=block_size*[0]\n",
        "    for ch in w + \".\":\n",
        "      ix=stoi[ch]\n",
        "      X.append(context)\n",
        "      Y.append(ix)\n",
        "\n",
        "      context=context[1:]+[ix]\n",
        "\n",
        "  X=torch.tensor(X)\n",
        "  Y=torch.tensor(Y)\n",
        "\n",
        "  return X,Y\n",
        "\n",
        "import random\n",
        "random.seed(42)\n",
        "n1=int(0.8*len(words))\n",
        "n2=int(0.9*len(words))\n",
        "\n",
        "Xtr,Ytr=build_dataset(words[:n1])\n",
        "Xdev,Ydev=build_dataset(words[n1:n2])\n",
        "Xte,Yte=build_dataset(words[n2:])\n"
      ],
      "metadata": {
        "id": "Nyf5hj-qdHAX"
      },
      "execution_count": null,
      "outputs": []
    },
    {
      "cell_type": "code",
      "source": [
        "Xdev.shape, Ydev.shape"
      ],
      "metadata": {
        "colab": {
          "base_uri": "https://localhost:8080/"
        },
        "id": "crSm1KuKfbhQ",
        "outputId": "7f936664-b8c0-4caa-e98d-dfb301a4587f"
      },
      "execution_count": null,
      "outputs": [
        {
          "output_type": "execute_result",
          "data": {
            "text/plain": [
              "(torch.Size([22633, 3]), torch.Size([22633]))"
            ]
          },
          "metadata": {},
          "execution_count": 38
        }
      ]
    },
    {
      "cell_type": "code",
      "source": [
        "len(words)\n",
        "n1"
      ],
      "metadata": {
        "colab": {
          "base_uri": "https://localhost:8080/"
        },
        "id": "D0x-rsWcfnkc",
        "outputId": "faad1d80-e53c-4176-8693-c5886da2433c"
      },
      "execution_count": null,
      "outputs": [
        {
          "output_type": "execute_result",
          "data": {
            "text/plain": [
              "25626"
            ]
          },
          "metadata": {},
          "execution_count": 39
        }
      ]
    },
    {
      "cell_type": "code",
      "source": [
        "g=torch.Generator().manual_seed(2147483647)\n",
        "C=torch.randn((27,10),generator=g)\n",
        "W1=torch.randn((30,200))\n",
        "b1=torch.randn((200))\n",
        "W2=torch.randn((200,27))\n",
        "b2=torch.randn((27))\n",
        "parameters=[C,W1,b1,W2,b2]\n"
      ],
      "metadata": {
        "id": "TC6hk24ujkiq"
      },
      "execution_count": null,
      "outputs": []
    },
    {
      "cell_type": "code",
      "source": [
        "sum(p.nelement() for p in parameters)"
      ],
      "metadata": {
        "colab": {
          "base_uri": "https://localhost:8080/"
        },
        "id": "QZkz5qxvjnZe",
        "outputId": "5fa578fe-a9e2-411b-f962-6d16ee56e0bc"
      },
      "execution_count": null,
      "outputs": [
        {
          "output_type": "execute_result",
          "data": {
            "text/plain": [
              "11897"
            ]
          },
          "metadata": {},
          "execution_count": 41
        }
      ]
    },
    {
      "cell_type": "code",
      "source": [
        "for p in parameters:\n",
        "  p.requires_grad=True"
      ],
      "metadata": {
        "id": "z0O0KDjVjpqr"
      },
      "execution_count": null,
      "outputs": []
    },
    {
      "cell_type": "code",
      "source": [
        "stepi=[]\n",
        "lossi=[]"
      ],
      "metadata": {
        "id": "rTzZeJKZkgvn"
      },
      "execution_count": null,
      "outputs": []
    },
    {
      "cell_type": "code",
      "source": [
        "#training on the training set\n",
        "lr=10**-1\n",
        "for i in range(100000):\n",
        "\n",
        "  #mini batch construct\n",
        "  ix=torch.randint(0,Xtr.shape[0],(32,))\n",
        "\n",
        "\n",
        "\n",
        "  #forward pass\n",
        "  emb=C[Xtr[ix]] # (32,3,10)\n",
        "  h=torch.tanh(emb.view(-1,30)@W1 + b1) #(32,200)\n",
        "  logits= h @ W2 + b2  # (32,27)\n",
        "  loss=F.cross_entropy(logits,Ytr[ix])  #numerically well behaved , kernels are kind of fused so aggregate operations takes place which are efficient\n",
        "  # print(f'Loss at the {i}th iteration is :{loss}'\n",
        "\n",
        "  stepi.append(i)\n",
        "  lossi.append(loss.detach())\n",
        "  #backward pass\n",
        "  for p in parameters:\n",
        "    p.grad=None\n",
        "  loss.backward()\n",
        "\n",
        "\n",
        "  #update\n",
        "  for p in parameters:\n",
        "    p.data+=-lr*p.grad\n",
        "  lr=lr*(1-(10**-(i+1)))\n"
      ],
      "metadata": {
        "id": "2ghS2CA-gHde"
      },
      "execution_count": null,
      "outputs": []
    },
    {
      "cell_type": "code",
      "source": [
        "plt.plot(stepi,lossi)"
      ],
      "metadata": {
        "colab": {
          "base_uri": "https://localhost:8080/",
          "height": 447
        },
        "id": "daSpFVBaktiK",
        "outputId": "ec797872-6897-40c2-f604-a4ec8cce3675"
      },
      "execution_count": null,
      "outputs": [
        {
          "output_type": "execute_result",
          "data": {
            "text/plain": [
              "[<matplotlib.lines.Line2D at 0x7b3f43ecb490>]"
            ]
          },
          "metadata": {},
          "execution_count": 45
        },
        {
          "output_type": "display_data",
          "data": {
            "text/plain": [
              "<Figure size 640x480 with 1 Axes>"
            ],
            "image/png": "[encoded data removed]"
          },
          "metadata": {}
        }
      ]
    },
    {
      "cell_type": "code",
      "source": [
        "#taking loss on test set\n",
        "emb=C[Xte] # (32,3,10)\n",
        "h=torch.tanh(emb.view(-1,30)@W1 + b1) #(32,200)\n",
        "logits= h @ W2 + b2  # (32,27)\n",
        "test_loss=F.cross_entropy(logits,Yte)\n",
        "\n",
        "\n",
        "#taking loss on dev set\n",
        "emb=C[Xdev] # (32,3,10)\n",
        "h=torch.tanh(emb.view(-1,30)@W1 + b1) #(32,200)\n",
        "logits= h @ W2 + b2  # (32,27)\n",
        "dev_loss=F.cross_entropy(logits,Ydev)\n",
        "\n",
        "\n",
        "#taking loss on train set\n",
        "emb=C[Xtr] # (32,3,10)\n",
        "h=torch.tanh(emb.view(-1,30)@W1 + b1) #(32,200)\n",
        "logits= h @ W2 + b2  # (32,27)\n",
        "train_loss=F.cross_entropy(logits,Ytr)\n",
        "print(f'Training loss: {train_loss}, \\nValidation loss:{dev_loss}, \\nTest loss:{test_loss}')"
      ],
      "metadata": {
        "colab": {
          "base_uri": "https://localhost:8080/",
          "height": 211
        },
        "id": "F3D_86sahEEe",
        "outputId": "3f247b96-78ee-4cd7-ea26-6fd238f62dc4"
      },
      "execution_count": null,
      "outputs": [
        {
          "output_type": "error",
          "ename": "RuntimeError",
          "evalue": "mat1 and mat2 shapes cannot be multiplied (22735x200 and 230x27)",
          "traceback": [
            "\u001b[0;31m---------------------------------------------------------------------------\u001b[0m",
            "\u001b[0;31mRuntimeError\u001b[0m                              Traceback (most recent call last)",
            "\u001b[0;32m<ipython-input-54-2420974733>\u001b[0m in \u001b[0;36m<cell line: 0>\u001b[0;34m()\u001b[0m\n\u001b[1;32m      2\u001b[0m \u001b[0memb\u001b[0m\u001b[0;34m=\u001b[0m\u001b[0mC\u001b[0m\u001b[0;34m[\u001b[0m\u001b[0mXte\u001b[0m\u001b[0;34m]\u001b[0m \u001b[0;31m# (32,3,10)\u001b[0m\u001b[0;34m\u001b[0m\u001b[0;34m\u001b[0m\u001b[0m\n\u001b[1;32m      3\u001b[0m \u001b[0mh\u001b[0m\u001b[0;34m=\u001b[0m\u001b[0mtorch\u001b[0m\u001b[0;34m.\u001b[0m\u001b[0mtanh\u001b[0m\u001b[0;34m(\u001b[0m\u001b[0memb\u001b[0m\u001b[0;34m.\u001b[0m\u001b[0mview\u001b[0m\u001b[0;34m(\u001b[0m\u001b[0;34m-\u001b[0m\u001b[0;36m1\u001b[0m\u001b[0;34m,\u001b[0m\u001b[0;36m30\u001b[0m\u001b[0;34m)\u001b[0m\u001b[0;34m@\u001b[0m\u001b[0mW1\u001b[0m \u001b[0;34m+\u001b[0m \u001b[0mb1\u001b[0m\u001b[0;34m)\u001b[0m \u001b[0;31m#(32,200)\u001b[0m\u001b[0;34m\u001b[0m\u001b[0;34m\u001b[0m\u001b[0m\n\u001b[0;32m----> 4\u001b[0;31m \u001b[0mlogits\u001b[0m\u001b[0;34m=\u001b[0m \u001b[0mh\u001b[0m \u001b[0;34m@\u001b[0m \u001b[0mW2\u001b[0m \u001b[0;34m+\u001b[0m \u001b[0mb2\u001b[0m  \u001b[0;31m# (32,27)\u001b[0m\u001b[0;34m\u001b[0m\u001b[0;34m\u001b[0m\u001b[0m\n\u001b[0m\u001b[1;32m      5\u001b[0m \u001b[0mtest_loss\u001b[0m\u001b[0;34m=\u001b[0m\u001b[0mF\u001b[0m\u001b[0;34m.\u001b[0m\u001b[0mcross_entropy\u001b[0m\u001b[0;34m(\u001b[0m\u001b[0mlogits\u001b[0m\u001b[0;34m,\u001b[0m\u001b[0mYte\u001b[0m\u001b[0;34m)\u001b[0m\u001b[0;34m\u001b[0m\u001b[0;34m\u001b[0m\u001b[0m\n\u001b[1;32m      6\u001b[0m \u001b[0;34m\u001b[0m\u001b[0m\n",
            "\u001b[0;31mRuntimeError\u001b[0m: mat1 and mat2 shapes cannot be multiplied (22735x200 and 230x27)"
          ]
        }
      ]
    },
    {
      "cell_type": "code",
      "source": [
        "#sample from the model\n",
        "\n",
        "g=torch.Generator().manual_seed(2147483647)\n",
        "\n",
        "for _ in range(20):\n",
        "  out=[]\n",
        "  context=[0]*block_size\n",
        "\n",
        "  while True:\n",
        "    emb=C[torch.tensor([context])]\n",
        "    h=torch.tanh(emb.view(1,-1)@W1+b1)\n",
        "    logits=h@W2+b2\n",
        "    probs=F.softmax(logits,dim=1)\n",
        "    ix=torch.multinomial(probs,num_samples=1,generator=g).item()\n",
        "    context=context[1:]+[ix]\n",
        "\n",
        "    out.append(ix)\n",
        "    if ix==0:\n",
        "      break\n",
        "\n",
        "  print(''.join(itos[i] for i in out))"
      ],
      "metadata": {
        "colab": {
          "base_uri": "https://localhost:8080/"
        },
        "id": "jjxyXhQinWy5",
        "outputId": "fe0aaa13-d243-4d09-9908-0cdb39115f27"
      },
      "execution_count": null,
      "outputs": [
        {
          "output_type": "stream",
          "name": "stdout",
          "text": [
            "junide.\n",
            "jacara.\n",
            "julis.\n",
            "amarina.\n",
            "jilillo.\n",
            "cobi.\n",
            "ger.\n",
            "kalanaa.\n",
            "edailena.\n",
            "jededailewa.\n",
            "jadshaylean.\n",
            "arth.\n",
            "karmurah.\n",
            "fontamernenne.\n",
            "jalesann.\n",
            "cora.\n",
            "yae.\n",
            "ocarrejana.\n",
            "nerimiki.\n",
            "wynn.\n"
          ]
        }
      ]
    },
    {
      "cell_type": "markdown",
      "source": [
        "# MLP PAPER IMPLEMENTATION"
      ],
      "metadata": {
        "id": "coo3vNF03Puw"
      }
    },
    {
      "cell_type": "code",
      "source": [
        "lossi=[]\n",
        "stepi=[]"
      ],
      "metadata": {
        "id": "8oTmn8rz8wKa"
      },
      "execution_count": null,
      "outputs": []
    },
    {
      "cell_type": "code",
      "source": [
        "g=torch.Generator().manual_seed(2147483647)\n",
        "C=torch.randn((27,10),generator=g)\n",
        "W1=torch.randn((30,200))\n",
        "b1=torch.randn((200))\n",
        "W2=torch.randn((230,27))\n",
        "b2=torch.randn((27))\n",
        "parameters=[C,W1,b1,W2,b2]\n"
      ],
      "metadata": {
        "id": "cdcOVJ5Z3bgi"
      },
      "execution_count": null,
      "outputs": []
    },
    {
      "cell_type": "code",
      "source": [
        "for p in parameters:\n",
        "  p.requires_grad=True"
      ],
      "metadata": {
        "id": "Ncm517683gVC"
      },
      "execution_count": null,
      "outputs": []
    },
    {
      "cell_type": "code",
      "source": [
        "#training on the training set\n",
        "lr=10**-1\n",
        "k=50000\n",
        "decay_factor=10**-1\n",
        "for i in range(200000):\n",
        "\n",
        "  #mini batch construct\n",
        "  ix=torch.randint(0,Xtr.shape[0],(32,))\n",
        "\n",
        "\n",
        "\n",
        "  #forward pass\n",
        "  emb=C[Xtr[ix]] # (32,3,10)\n",
        "  h=torch.tanh(emb.view(-1,30)@W1 + b1) #(32,200)\n",
        "  hh=torch.concat([emb.view(-1,30),h],dim=1)\n",
        "  logits= hh @ W2 + b2  # (32,27)\n",
        "  loss=F.cross_entropy(logits,Ytr[ix])  #numerically well behaved , kernels are kind of fused so aggregate operations takes place which are efficient\n",
        "  # print(f'Loss at the {i}th iteration is :{loss}'\n",
        "\n",
        "  stepi.append(i)\n",
        "  lossi.append(loss.detach())\n",
        "  #backward pass\n",
        "  for p in parameters:\n",
        "    p.grad=None\n",
        "  loss.backward()\n",
        "\n",
        "\n",
        "  #update\n",
        "  for p in parameters:\n",
        "    p.data+=-lr*p.grad\n",
        "\n",
        "\n",
        "\n",
        "  if (i+1)%k==0:\n",
        "    lr=lr*decay_factor\n"
      ],
      "metadata": {
        "id": "jsDuRUe43JJh"
      },
      "execution_count": null,
      "outputs": []
    },
    {
      "cell_type": "code",
      "source": [
        "plt.plot(stepi,lossi)"
      ],
      "metadata": {
        "colab": {
          "base_uri": "https://localhost:8080/",
          "height": 448
        },
        "id": "ggJrV-uq6_t8",
        "outputId": "14be0b0e-716e-4c40-8324-817b8140eabc"
      },
      "execution_count": null,
      "outputs": [
        {
          "output_type": "execute_result",
          "data": {
            "text/plain": [
              "[<matplotlib.lines.Line2D at 0x7b3f2d1c6e10>]"
            ]
          },
          "metadata": {},
          "execution_count": 88
        },
        {
          "output_type": "display_data",
          "data": {
            "text/plain": [
              "<Figure size 640x480 with 1 Axes>"
            ],
            "image/png": "[encoded data removed]"
          },
          "metadata": {}
        }
      ]
    },
    {
      "cell_type": "code",
      "source": [
        "#taking loss on test set\n",
        "emb=C[Xte] # (32,3,10)\n",
        "h=torch.tanh(emb.view(-1,30)@W1 + b1) #(32,200)\n",
        "hh=torch.concat([emb.view(-1,30),h],dim=1) # (32,230)\n",
        "logits= hh @ W2 + b2  # (32,27)\n",
        "test_loss=F.cross_entropy(logits,Yte)\n",
        "\n",
        "\n",
        "#taking loss on dev set\n",
        "emb=C[Xdev] # (32,3,10)\n",
        "h=torch.tanh(emb.view(-1,30)@W1 + b1) #(32,200)\n",
        "hh=torch.concat([emb.view(-1,30),h],dim=1) # (32,230)\n",
        "logits= hh @ W2 + b2  # (32,27)\n",
        "dev_loss=F.cross_entropy(logits,Ydev)\n",
        "\n",
        "\n",
        "#taking loss on train set\n",
        "emb=C[Xtr] # (32,3,10)\n",
        "h=torch.tanh(emb.view(-1,30)@W1 + b1) #(32,200)\n",
        "hh=torch.concat([emb.view(-1,30),h],dim=1) # (32,230)\n",
        "logits= hh @ W2 + b2  # (32,27)\n",
        "train_loss=F.cross_entropy(logits,Ytr)\n",
        "print(f'Training loss: {train_loss}, \\nValidation loss:{dev_loss}, \\nTest loss:{test_loss}')"
      ],
      "metadata": {
        "colab": {
          "base_uri": "https://localhost:8080/"
        },
        "id": "xMe7sh7943ec",
        "outputId": "b28c34d7-81dd-4af5-9836-f30cb94cf38c"
      },
      "execution_count": null,
      "outputs": [
        {
          "output_type": "stream",
          "name": "stdout",
          "text": [
            "Training loss: 2.121986150741577, \n",
            "Validation loss:2.424550771713257, \n",
            "Test loss:2.4537546634674072\n"
          ]
        }
      ]
    }
  ]
}