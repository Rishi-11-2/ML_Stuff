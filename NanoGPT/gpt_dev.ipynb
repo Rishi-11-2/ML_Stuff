{
  "cells": [
    {
      "cell_type": "code",
      "execution_count": null,
      "metadata": {
        "colab": {
          "base_uri": "https://localhost:8080/"
        },
        "id": "Hu1slBEHFeDi",
        "outputId": "b9b31026-34ca-4e9c-e20d-04554f4da181"
      },
      "outputs": [
        {
          "name": "stdout",
          "output_type": "stream",
          "text": [
            "--2025-07-05 09:38:09--  https://raw.githubusercontent.com/karpathy/char-rnn/master/data/tinyshakespeare/input.txt\n",
            "Resolving raw.githubusercontent.com (raw.githubusercontent.com)... 185.199.108.133, 185.199.111.133, 185.199.110.133, ...\n",
            "Connecting to raw.githubusercontent.com (raw.githubusercontent.com)|185.199.108.133|:443... connected.\n",
            "HTTP request sent, awaiting response... 200 OK\n",
            "Length: 1115394 (1.1M) [text/plain]\n",
            "Saving to: ‘input.txt’\n",
            "\n",
            "\rinput.txt             0%[                    ]       0  --.-KB/s               \rinput.txt           100%[===================>]   1.06M  --.-KB/s    in 0.06s   \n",
            "\n",
            "2025-07-05 09:38:09 (19.0 MB/s) - ‘input.txt’ saved [1115394/1115394]\n",
            "\n"
          ]
        }
      ],
      "source": [
        "# We always start with a dataset to train on. Let's download the tiny shakespeare dataset\n",
        "!wget https://raw.githubusercontent.com/karpathy/char-rnn/master/data/tinyshakespeare/input.txt"
      ]
    },
    {
      "cell_type": "code",
      "execution_count": null,
      "metadata": {
        "id": "Mqx-_jQaFisn"
      },
      "outputs": [],
      "source": [
        "with open('input.txt','r',encoding='utf-8') as f:\n",
        "  text=f.read()"
      ]
    },
    {
      "cell_type": "code",
      "execution_count": null,
      "metadata": {
        "colab": {
          "base_uri": "https://localhost:8080/"
        },
        "id": "0nmUhigpFtjL",
        "outputId": "ff0bfa19-56d8-4501-baa3-7ab271dc13d2"
      },
      "outputs": [
        {
          "name": "stdout",
          "output_type": "stream",
          "text": [
            "length of dataset in characters:  1115394\n"
          ]
        }
      ],
      "source": [
        "print(\"length of dataset in characters: \", len(text))"
      ]
    },
    {
      "cell_type": "code",
      "execution_count": null,
      "metadata": {
        "colab": {
          "base_uri": "https://localhost:8080/",
          "height": 35
        },
        "id": "8b1HcZBiFpJN",
        "outputId": "908add83-17ac-4553-a46d-93a0c3351de5"
      },
      "outputs": [
        {
          "data": {
            "application/vnd.google.colaboratory.intrinsic+json": {
              "type": "string"
            },
            "text/plain": [
              "'First Ci'"
            ]
          },
          "execution_count": 4,
          "metadata": {},
          "output_type": "execute_result"
        }
      ],
      "source": [
        "text[:8]"
      ]
    },
    {
      "cell_type": "code",
      "execution_count": null,
      "metadata": {
        "colab": {
          "base_uri": "https://localhost:8080/"
        },
        "id": "e-CeVilwFwfO",
        "outputId": "9d0b19fd-72a4-4765-9e94-b73b150d9dd3"
      },
      "outputs": [
        {
          "name": "stdout",
          "output_type": "stream",
          "text": [
            "First Citizen:\n",
            "Before we proceed any further, hear me speak.\n",
            "\n",
            "All:\n",
            "Speak, speak.\n",
            "\n",
            "First Citizen:\n",
            "You are all resolved rather to die than to famish?\n",
            "\n",
            "All:\n",
            "Resolved. resolved.\n",
            "\n",
            "First Citizen:\n",
            "First, you know Caius Marcius is chief enemy to the people.\n",
            "\n",
            "All:\n",
            "We know't, we know't.\n",
            "\n",
            "First Citizen:\n",
            "Let us kill him, and we'll have corn at our own price.\n",
            "Is't a verdict?\n",
            "\n",
            "All:\n",
            "No more talking on't; let it be done: away, away!\n",
            "\n",
            "Second Citizen:\n",
            "One word, good citizens.\n",
            "\n",
            "First Citizen:\n",
            "We are accounted poor citizens, the patricians good.\n",
            "What authority surfeits on would relieve us: if they\n",
            "would yield us but the superfluity, while it were\n",
            "wholesome, we might guess they relieved us humanely;\n",
            "but they think we are too dear: the leanness that\n",
            "afflicts us, the object of our misery, is as an\n",
            "inventory to particularise their abundance; our\n",
            "sufferance is a gain to them Let us revenge this with\n",
            "our pikes, ere we become rakes: for the gods know I\n",
            "speak this in hunger for bread, not in thirst for revenge.\n",
            "\n",
            "\n"
          ]
        }
      ],
      "source": [
        "print(text[:1000])"
      ]
    },
    {
      "cell_type": "code",
      "execution_count": null,
      "metadata": {
        "colab": {
          "base_uri": "https://localhost:8080/"
        },
        "id": "FpMXIoR9FxgY",
        "outputId": "21172a6a-bd27-4f3e-b028-0e2f6cd309fb"
      },
      "outputs": [
        {
          "name": "stdout",
          "output_type": "stream",
          "text": [
            "\n",
            " !$&',-.3:;?ABCDEFGHIJKLMNOPQRSTUVWXYZabcdefghijklmnopqrstuvwxyz\n",
            "65\n"
          ]
        }
      ],
      "source": [
        "chars=sorted(list(set(text)))\n",
        "vocab_size=len(chars)\n",
        "print(''.join(chars))\n",
        "print(vocab_size)"
      ]
    },
    {
      "cell_type": "code",
      "execution_count": null,
      "metadata": {
        "id": "YiRaCjUNGN7x"
      },
      "outputs": [],
      "source": [
        "stoi={ch:i for i,ch in enumerate(chars)}\n",
        "itos={i:ch for i,ch in enumerate(chars)}\n",
        "encode = lambda s : [stoi[c] for c in s] # encoder: take a string output a list of integers\n",
        "decode = lambda l : ''.join([itos[i] for i in l]) #decoder takes a list of integers , outputs a string"
      ]
    },
    {
      "cell_type": "code",
      "execution_count": null,
      "metadata": {
        "colab": {
          "base_uri": "https://localhost:8080/",
          "height": 35
        },
        "id": "vXZt6H7nHEuZ",
        "outputId": "9280869d-3ae8-4ffd-eb57-fd064a17db4e"
      },
      "outputs": [
        {
          "data": {
            "application/vnd.google.colaboratory.intrinsic+json": {
              "type": "string"
            },
            "text/plain": [
              "'Hello'"
            ]
          },
          "execution_count": 8,
          "metadata": {},
          "output_type": "execute_result"
        }
      ],
      "source": [
        "encode(\"Hello\")\n",
        "decode(encode(\"Hello\"))"
      ]
    },
    {
      "cell_type": "code",
      "execution_count": null,
      "metadata": {
        "colab": {
          "base_uri": "https://localhost:8080/"
        },
        "id": "Hxt9qdxPHoMg",
        "outputId": "7e5a2e64-3900-4e68-d92a-f4f51de6697a"
      },
      "outputs": [
        {
          "name": "stdout",
          "output_type": "stream",
          "text": [
            "torch.Size([1115394]) torch.int64\n",
            "tensor([18, 47, 56, 57, 58,  1, 15, 47, 58, 47, 64, 43, 52, 10,  0, 14, 43, 44,\n",
            "        53, 56])\n"
          ]
        }
      ],
      "source": [
        "import torch\n",
        "data=torch.tensor(encode(text),dtype=torch.long)\n",
        "print(data.shape,data.dtype)\n",
        "print(data[:20])"
      ]
    },
    {
      "cell_type": "code",
      "execution_count": null,
      "metadata": {
        "id": "bCW1LHnrIZZm"
      },
      "outputs": [],
      "source": [
        "# splitting the dataset into train and validation sets\n",
        "n=int(0.9*len(text))\n",
        "train_data=data[:n]\n",
        "val_data=data[n:]"
      ]
    },
    {
      "cell_type": "code",
      "execution_count": null,
      "metadata": {
        "colab": {
          "base_uri": "https://localhost:8080/"
        },
        "id": "vkfw0xgJIwSI",
        "outputId": "6f318e30-6668-4c06-f4f2-12408934e6ce"
      },
      "outputs": [
        {
          "data": {
            "text/plain": [
              "tensor([12,  0,  0,  ..., 45,  8,  0])"
            ]
          },
          "execution_count": 11,
          "metadata": {},
          "output_type": "execute_result"
        }
      ],
      "source": [
        "val_data"
      ]
    },
    {
      "cell_type": "code",
      "execution_count": null,
      "metadata": {
        "colab": {
          "base_uri": "https://localhost:8080/"
        },
        "id": "VRtSUPsiI1lY",
        "outputId": "7fd8b2c0-4209-422e-c7d3-5353fac40c61"
      },
      "outputs": [
        {
          "data": {
            "text/plain": [
              "tensor([18, 47, 56, 57, 58,  1, 15, 47, 58])"
            ]
          },
          "execution_count": 12,
          "metadata": {},
          "output_type": "execute_result"
        }
      ],
      "source": [
        "block_size=8\n",
        "train_data[:block_size+1]"
      ]
    },
    {
      "cell_type": "code",
      "execution_count": null,
      "metadata": {
        "colab": {
          "base_uri": "https://localhost:8080/"
        },
        "id": "WhVm8SAAJHWM",
        "outputId": "6f2291e2-55ab-4c24-9aa8-dbf0dfd16ebb"
      },
      "outputs": [
        {
          "name": "stdout",
          "output_type": "stream",
          "text": [
            "When context is F , the target is i\n",
            "\n",
            "When context is Fi , the target is r\n",
            "\n",
            "When context is Fir , the target is s\n",
            "\n",
            "When context is Firs , the target is t\n",
            "\n",
            "When context is First , the target is  \n",
            "\n",
            "When context is First  , the target is C\n",
            "\n",
            "When context is First C , the target is i\n",
            "\n",
            "When context is First Ci , the target is t\n",
            "\n"
          ]
        }
      ],
      "source": [
        "x=train_data[:block_size]\n",
        "y=train_data[1:block_size+1] # Corrected the slicing for y\n",
        "for t in range(block_size):\n",
        "  context=x[:t+1]\n",
        "  target=y[t]\n",
        "\n",
        "  # Convert tensors to lists of integers before decoding\n",
        "  print(f\"When context is {decode(context.tolist())} , the target is {decode([target.tolist()])}\\n\")"
      ]
    },
    {
      "cell_type": "code",
      "execution_count": null,
      "metadata": {
        "colab": {
          "base_uri": "https://localhost:8080/"
        },
        "id": "G5q7IhS-JsPv",
        "outputId": "ef07ef5e-55aa-4ae5-f278-1c0ffc2e0194"
      },
      "outputs": [
        {
          "name": "stdout",
          "output_type": "stream",
          "text": [
            "inputs:\n",
            "torch.Size([4, 8])\n",
            "tensor([[24, 43, 58,  5, 57,  1, 46, 43],\n",
            "        [44, 53, 56,  1, 58, 46, 39, 58],\n",
            "        [52, 58,  1, 58, 46, 39, 58,  1],\n",
            "        [25, 17, 27, 10,  0, 21,  1, 54]])\n",
            "targets:\n",
            "torch.Size([4, 8])\n",
            "tensor([[43, 58,  5, 57,  1, 46, 43, 39],\n",
            "        [53, 56,  1, 58, 46, 39, 58,  1],\n",
            "        [58,  1, 58, 46, 39, 58,  1, 46],\n",
            "        [17, 27, 10,  0, 21,  1, 54, 39]])\n",
            "When context is L , the target is e\n",
            "\n",
            "When context is Le , the target is t\n",
            "\n",
            "When context is Let , the target is '\n",
            "\n",
            "When context is Let' , the target is s\n",
            "\n",
            "When context is Let's , the target is  \n",
            "\n",
            "When context is Let's  , the target is h\n",
            "\n",
            "When context is Let's h , the target is e\n",
            "\n",
            "When context is Let's he , the target is a\n",
            "\n",
            "When context is f , the target is o\n",
            "\n",
            "When context is fo , the target is r\n",
            "\n",
            "When context is for , the target is  \n",
            "\n",
            "When context is for  , the target is t\n",
            "\n",
            "When context is for t , the target is h\n",
            "\n",
            "When context is for th , the target is a\n",
            "\n",
            "When context is for tha , the target is t\n",
            "\n",
            "When context is for that , the target is  \n",
            "\n",
            "When context is n , the target is t\n",
            "\n",
            "When context is nt , the target is  \n",
            "\n",
            "When context is nt  , the target is t\n",
            "\n",
            "When context is nt t , the target is h\n",
            "\n",
            "When context is nt th , the target is a\n",
            "\n",
            "When context is nt tha , the target is t\n",
            "\n",
            "When context is nt that , the target is  \n",
            "\n",
            "When context is nt that  , the target is h\n",
            "\n",
            "When context is M , the target is E\n",
            "\n",
            "When context is ME , the target is O\n",
            "\n",
            "When context is MEO , the target is :\n",
            "\n",
            "When context is MEO: , the target is \n",
            "\n",
            "\n",
            "When context is MEO:\n",
            " , the target is I\n",
            "\n",
            "When context is MEO:\n",
            "I , the target is  \n",
            "\n",
            "When context is MEO:\n",
            "I  , the target is p\n",
            "\n",
            "When context is MEO:\n",
            "I p , the target is a\n",
            "\n"
          ]
        }
      ],
      "source": [
        "torch.manual_seed(1337)\n",
        "batch_size = 4\n",
        "block_size = 8\n",
        "\n",
        "def get_batch(split):\n",
        "    data = train_data if split == 'train' else val_data\n",
        "\n",
        "    ix=torch.randint(len(data)-block_size,(batch_size,))\n",
        "    x=torch.stack([data[i:i+block_size] for i in ix])\n",
        "    y=torch.stack([data[i+1:i+block_size+1] for i in ix])\n",
        "\n",
        "    return x,y\n",
        "\n",
        "xb,yb=get_batch('train')\n",
        "\n",
        "print('inputs:')\n",
        "print(xb.shape)\n",
        "print(xb)\n",
        "\n",
        "print('targets:')\n",
        "print(yb.shape)\n",
        "print(yb)\n",
        "\n",
        "for b in range(batch_size):\n",
        "    for t in range(block_size):\n",
        "        context=xb[b,:t+1]\n",
        "        target=yb[b,t]\n",
        "\n",
        "        # Convert tensors to lists of integers before decoding\n",
        "        print(f\"When context is {decode(context.tolist())} , the target is {decode([target.tolist()])}\\n\")"
      ]
    },
    {
      "cell_type": "code",
      "execution_count": null,
      "metadata": {
        "colab": {
          "base_uri": "https://localhost:8080/"
        },
        "id": "_F7sYQWRMBgE",
        "outputId": "2a122f1b-8436-4566-d449-0303f8d98b33"
      },
      "outputs": [
        {
          "name": "stdout",
          "output_type": "stream",
          "text": [
            "torch.Size([32, 65]) tensor(4.8786, grad_fn=<NllLossBackward0>)\n"
          ]
        }
      ],
      "source": [
        "import torch\n",
        "import torch.nn as nn\n",
        "from torch.nn import functional as F\n",
        "torch.manual_seed(1337)\n",
        "\n",
        "class BigramLanguageModel(nn.Module):\n",
        "\n",
        "  def __init__(self,vocab_size):\n",
        "\n",
        "    super().__init__()\n",
        "\n",
        "    # each token directly reads off the logits for the next token from the embedding table\n",
        "\n",
        "    self.token_embedding_table=nn.Embedding(vocab_size,vocab_size)\n",
        "\n",
        "\n",
        "  def forward(self,idx,target=None):\n",
        "\n",
        "    # idx and target are both (B,T) tensors of integers\n",
        "\n",
        "    logits=self.token_embedding_table(idx) # (B,T,C)\n",
        "\n",
        "    if target is None:\n",
        "      loss=None\n",
        "    else:\n",
        "      B,T,C=logits.shape\n",
        "      logits=logits.view(B*T,C)\n",
        "      target=target.view(B*T)\n",
        "      loss=F.cross_entropy(logits,target)\n",
        "\n",
        "    return logits ,loss\n",
        "\n",
        "\n",
        "  def generate(self,idx,max_new_tokens):\n",
        "    # idx is (B,T) array of indices in the current context\n",
        "\n",
        "    for _ in range(max_new_tokens):\n",
        "      #get the predictions\n",
        "      logits, loss = self(idx) # Pass only idx to forward when generating\n",
        "      #focus only on the last time step\n",
        "\n",
        "      logits=logits[:,-1,:] # (B,C)\n",
        "      #apply softmax to get the probabilities\n",
        "\n",
        "      probs=F.softmax(logits,dim=1)\n",
        "\n",
        "      # sample from the distribution\n",
        "\n",
        "      idx_next=torch.multinomial(probs,num_samples=1) # (B,1)\n",
        "\n",
        "      idx=torch.cat((idx,idx_next),dim=1) # (B,T+1)\n",
        "\n",
        "    return idx\n",
        "\n",
        "\n",
        "\n",
        "m=BigramLanguageModel(vocab_size)\n",
        "logits,loss=m(xb,yb)\n",
        "print(logits.shape,loss)"
      ]
    },
    {
      "cell_type": "code",
      "execution_count": null,
      "metadata": {
        "colab": {
          "base_uri": "https://localhost:8080/"
        },
        "id": "UjC4nb__PnZ_",
        "outputId": "5aedf049-39e0-434a-f7fc-d01cadde16ca"
      },
      "outputs": [
        {
          "name": "stdout",
          "output_type": "stream",
          "text": [
            "\n",
            "Sr?qP-QWkt\n"
          ]
        }
      ],
      "source": [
        "idx=torch.zeros((1,1),dtype=torch.long)\n",
        "print(decode((m.generate(idx,max_new_tokens=10))[0].tolist()))"
      ]
    },
    {
      "cell_type": "code",
      "execution_count": null,
      "metadata": {
        "id": "T9Rwvq-iKUO-"
      },
      "outputs": [],
      "source": [
        "optimizer=torch.optim.AdamW(m.parameters(),lr=1e-3)"
      ]
    },
    {
      "cell_type": "code",
      "execution_count": null,
      "metadata": {
        "colab": {
          "base_uri": "https://localhost:8080/"
        },
        "id": "ODLRe7ZBKdBX",
        "outputId": "39f91e6f-d506-46a2-b27c-ed9dac64cdea"
      },
      "outputs": [
        {
          "name": "stdout",
          "output_type": "stream",
          "text": [
            "2.4730143547058105\n"
          ]
        }
      ],
      "source": [
        "batch_size=32\n",
        "for steps in range(10000):\n",
        "  # sample batch of data\n",
        "  xb,yb=get_batch('train')\n",
        "\n",
        "  #evluate the loss\n",
        "  logits,loss=m(xb,yb)\n",
        "  optimizer.zero_grad(set_to_none=True)\n",
        "  loss.backward()\n",
        "  optimizer.step()\n",
        "\n",
        "print(loss.item())"
      ]
    },
    {
      "cell_type": "code",
      "execution_count": null,
      "metadata": {
        "colab": {
          "base_uri": "https://localhost:8080/"
        },
        "id": "KBXD1PvyLRg5",
        "outputId": "26f2994f-3a69-4ecc-c5a2-1cc7dfba7fc5"
      },
      "outputs": [
        {
          "name": "stdout",
          "output_type": "stream",
          "text": [
            "\n",
            "By y a!\n",
            "Caril.n y, denjxhece w illd CHAL, mer thoun s's:Conchuntilalllevise sthat dy hangilyoteng h \n"
          ]
        }
      ],
      "source": [
        "print(decode((m.generate(idx=torch.zeros((1,1),dtype=torch.long),max_new_tokens=100))[0].tolist()))"
      ]
    },
    {
      "cell_type": "markdown",
      "metadata": {
        "id": "ilfBTztgPrkG"
      },
      "source": [
        "## Mathematical Trick in Self-Attention"
      ]
    },
    {
      "cell_type": "code",
      "execution_count": null,
      "metadata": {
        "colab": {
          "base_uri": "https://localhost:8080/"
        },
        "id": "uRmdLS6oQYNC",
        "outputId": "d2d77a29-f544-4bc7-b56a-87276a07867a"
      },
      "outputs": [
        {
          "name": "stdout",
          "output_type": "stream",
          "text": [
            "a=\n",
            "tensor([[1.0000, 0.0000, 0.0000],\n",
            "        [0.5000, 0.5000, 0.0000],\n",
            "        [0.3333, 0.3333, 0.3333]])\n",
            "---------\n",
            "\n",
            "b=\n",
            "tensor([[2., 7.],\n",
            "        [6., 4.],\n",
            "        [6., 5.]])\n",
            "---------\n",
            "\n",
            "c=\n",
            "tensor([[2.0000, 7.0000],\n",
            "        [4.0000, 5.5000],\n",
            "        [4.6667, 5.3333]])\n",
            "---------\n",
            "\n"
          ]
        }
      ],
      "source": [
        "torch.manual_seed(42)\n",
        "a=torch.tril(torch.ones(3,3))\n",
        "a/=torch.sum(a,1,keepdim=True)\n",
        "b=torch.randint(0,10,(3,2)).float()\n",
        "c=a@b\n",
        "print(\"a=\")\n",
        "print(a)\n",
        "\n",
        "print(\"---------\\n\")\n",
        "\n",
        "print(\"b=\")\n",
        "print(b)\n",
        "\n",
        "print(\"---------\\n\")\n",
        "\n",
        "print(\"c=\")\n",
        "print(c)\n",
        "\n",
        "print(\"---------\\n\")\n"
      ]
    },
    {
      "cell_type": "code",
      "execution_count": null,
      "metadata": {
        "colab": {
          "base_uri": "https://localhost:8080/"
        },
        "id": "D7BD0Ez2PwTY",
        "outputId": "9d5054ef-388d-47de-8ed5-76ae6164b08e"
      },
      "outputs": [
        {
          "data": {
            "text/plain": [
              "torch.Size([4, 8, 2])"
            ]
          },
          "execution_count": 21,
          "metadata": {},
          "output_type": "execute_result"
        }
      ],
      "source": [
        "# consider the following toy example:\n",
        "\n",
        "torch.manual_seed(1337)\n",
        "B,T,C = 4,8,2 # batch, time, channels\n",
        "x = torch.randn(B,T,C)\n",
        "x.shape"
      ]
    },
    {
      "cell_type": "code",
      "execution_count": null,
      "metadata": {
        "id": "uGGoVPUwP9kz"
      },
      "outputs": [],
      "source": [
        "# We want x[b,t] = mean_{i<=t} x[b,i]\n",
        "xbow = torch.zeros((B,T,C))\n",
        "for b in range(B):\n",
        "    for t in range(T):\n",
        "        xprev = x[b,:t+1] # (t,C)\n",
        "        xbow[b,t] = torch.mean(xprev, 0)\n"
      ]
    },
    {
      "cell_type": "code",
      "execution_count": null,
      "metadata": {
        "colab": {
          "base_uri": "https://localhost:8080/"
        },
        "id": "eUHpkuqASN6m",
        "outputId": "b63762bd-be8f-408a-9d0a-4e5e65062fc3"
      },
      "outputs": [
        {
          "name": "stdout",
          "output_type": "stream",
          "text": [
            "torch.Size([4, 8, 2])\n"
          ]
        }
      ],
      "source": [
        "#vectorized implementation of the above\n",
        "# version2\n",
        "wei=torch.tril(torch.ones(T,T))\n",
        "wei=wei/wei.sum(1,keepdim=True)\n",
        "xbow2=wei@x  # (T,T) @ (B,T,C) --->  (B,T,T) @ (B,T,C) ==> (B,T,C)\n",
        "\n",
        "print(xbow2.shape)\n"
      ]
    },
    {
      "cell_type": "code",
      "execution_count": null,
      "metadata": {
        "colab": {
          "base_uri": "https://localhost:8080/"
        },
        "id": "TA02kRlNU6Fd",
        "outputId": "4ace479b-e9df-46c4-af00-309e7f983783"
      },
      "outputs": [
        {
          "name": "stdout",
          "output_type": "stream",
          "text": [
            "tensor(3.2363e-08)\n"
          ]
        }
      ],
      "source": [
        "diff = (xbow - xbow2).abs()\n",
        "print(diff.max())"
      ]
    },
    {
      "cell_type": "code",
      "execution_count": null,
      "metadata": {
        "id": "CuaMjw1KWyb6"
      },
      "outputs": [],
      "source": [
        "#version3\n",
        "tril=torch.tril(torch.ones(T,T))\n",
        "weights=torch.zeros((T,T))\n",
        "weights=weights.masked_fill(tril==0,float('-inf'))\n",
        "weights=F.softmax(weights,dim=1)\n",
        "xbow3=weights@x\n"
      ]
    },
    {
      "cell_type": "code",
      "execution_count": null,
      "metadata": {
        "colab": {
          "base_uri": "https://localhost:8080/"
        },
        "id": "zPBKLp1uXM2F",
        "outputId": "1073796e-39fe-4e8c-fc7c-f1e634a0473d"
      },
      "outputs": [
        {
          "name": "stdout",
          "output_type": "stream",
          "text": [
            "tensor(3.2363e-08)\n"
          ]
        }
      ],
      "source": [
        "diff = (xbow - xbow3).abs()\n",
        "print(diff.max())"
      ]
    },
    {
      "cell_type": "code",
      "execution_count": null,
      "metadata": {
        "colab": {
          "base_uri": "https://localhost:8080/"
        },
        "id": "07zTNURPUDhg",
        "outputId": "340f1d4d-36f8-45c3-a2f6-40d03c6a2108"
      },
      "outputs": [
        {
          "data": {
            "text/plain": [
              "True"
            ]
          },
          "execution_count": 27,
          "metadata": {},
          "output_type": "execute_result"
        }
      ],
      "source": [
        "torch.allclose(xbow,xbow2,atol=1e-6,rtol=1e-5)"
      ]
    },
    {
      "cell_type": "code",
      "execution_count": null,
      "metadata": {
        "colab": {
          "base_uri": "https://localhost:8080/"
        },
        "id": "_Zs9oV7X8eUd",
        "outputId": "cc4d780e-46e1-4b54-baa7-2a87cf80599e"
      },
      "outputs": [
        {
          "data": {
            "text/plain": [
              "torch.Size([4, 8, 16])"
            ]
          },
          "execution_count": 39,
          "metadata": {},
          "output_type": "execute_result"
        }
      ],
      "source": [
        "#version 4  (self attention)\n",
        "\n",
        "torch.manual_seed(1337)\n",
        "B,T,C=4,8,32\n",
        "x=torch.randn(B,T,C)\n",
        "\n",
        "#lets see a single head perform self attention\n",
        "\n",
        "head_size=16\n",
        "key=nn.Linear(C,head_size,bias=False)\n",
        "query=nn.Linear(C,head_size,bias=False)\n",
        "value=nn.Linear(C,head_size,bias=False)\n",
        "\n",
        "k=key(x)\n",
        "q=query(x)\n",
        "\n",
        "weight=q @ k.transpose(-2,-1) * (head_size**-0.5) # (B,T,16) @ (B,16,T) -----> (B,T,T)\n",
        "\n",
        "# at initialization ,scaled attention, to maintain unit variance otherwise softmax will saturate\n",
        "\n",
        "tril=torch.tril(torch.ones(T,T))\n",
        "\n",
        "# weights=torch.zeros((T,T))\n",
        "\n",
        "weights=weights.masked_fill(tril==0,float('-inf'))\n",
        "\n",
        "weights=F.softmax(weights,dim=-1)\n",
        "\n",
        "v=value(x)\n",
        "out=weights@v\n",
        "out.shape"
      ]
    },
    {
      "cell_type": "markdown",
      "metadata": {
        "id": "Z8yJPsydE22I"
      },
      "source": [
        "Notes:\n",
        "- Attention is a **communication mechanism**. Can be seen as nodes in a directed graph looking at each other and aggregating information with a weighted sum from all nodes that point to them, with data-dependent weights.\n",
        "- There is no notion of space. Attention simply acts over a set of vectors. This is why we need to positionally encode tokens.\n",
        "- Each example across batch dimension is of course processed completely independently and never \"talk\" to each other\n",
        "- In an \"encoder\" attention block just delete the single line that does masking with `tril`, allowing all tokens to communicate. This block here is called a \"decoder\" attention block because it has triangular masking, and is usually used in autoregressive settings, like language modeling.\n",
        "- \"self-attention\" just means that the keys and values are produced from the same source as queries. In \"cross-attention\", the queries still get produced from x, but the keys and values come from some other, external source (e.g. an encoder module)\n",
        "- \"Scaled\" attention additional divides `wei` by 1/sqrt(head_size). This makes it so when input Q,K are unit variance, wei will be unit variance too and Softmax will stay diffuse and not saturate too much. Illustration below"
      ]
    },
    {
      "cell_type": "code",
      "execution_count": null,
      "metadata": {
        "colab": {
          "base_uri": "https://localhost:8080/"
        },
        "id": "akZKS7KFEqcG",
        "outputId": "983abb1c-db40-4068-ffca-cf687053bfb8"
      },
      "outputs": [
        {
          "data": {
            "text/plain": [
              "tensor(0.3164, grad_fn=<VarBackward0>)"
            ]
          },
          "execution_count": 34,
          "metadata": {},
          "output_type": "execute_result"
        }
      ],
      "source": [
        "k.var()"
      ]
    },
    {
      "cell_type": "code",
      "execution_count": null,
      "metadata": {
        "colab": {
          "base_uri": "https://localhost:8080/"
        },
        "id": "YxkEswQeE57V",
        "outputId": "c9b5c425-2b20-4e6c-8710-15cc269106ce"
      },
      "outputs": [
        {
          "data": {
            "text/plain": [
              "tensor(0.3386, grad_fn=<VarBackward0>)"
            ]
          },
          "execution_count": 35,
          "metadata": {},
          "output_type": "execute_result"
        }
      ],
      "source": [
        "q.var()"
      ]
    },
    {
      "cell_type": "code",
      "execution_count": null,
      "metadata": {
        "colab": {
          "base_uri": "https://localhost:8080/"
        },
        "id": "OucADWT3E7U7",
        "outputId": "0a4ea868-c38b-40d3-9e06-ba8cd08817c6"
      },
      "outputs": [
        {
          "data": {
            "text/plain": [
              "tensor(0.0273)"
            ]
          },
          "execution_count": 36,
          "metadata": {},
          "output_type": "execute_result"
        }
      ],
      "source": [
        "wei.var()"
      ]
    },
    {
      "cell_type": "code",
      "execution_count": null,
      "metadata": {
        "colab": {
          "base_uri": "https://localhost:8080/"
        },
        "id": "kfTac3mqE8lT",
        "outputId": "04ab784d-9b6b-4087-fe7c-6f77e87ff5fa"
      },
      "outputs": [
        {
          "data": {
            "text/plain": [
              "tensor([0.1925, 0.1426, 0.2351, 0.1426, 0.2872])"
            ]
          },
          "execution_count": 37,
          "metadata": {},
          "output_type": "execute_result"
        }
      ],
      "source": [
        "torch.softmax(torch.tensor([0.1, -0.2, 0.3, -0.2, 0.5]), dim=-1)"
      ]
    },
    {
      "cell_type": "code",
      "execution_count": null,
      "metadata": {
        "colab": {
          "base_uri": "https://localhost:8080/"
        },
        "id": "sI117TNrE93D",
        "outputId": "4db45fa3-bdc9-4ec9-9808-968be504a2a9"
      },
      "outputs": [
        {
          "data": {
            "text/plain": [
              "tensor([0.0326, 0.0030, 0.1615, 0.0030, 0.8000])"
            ]
          },
          "execution_count": 38,
          "metadata": {},
          "output_type": "execute_result"
        }
      ],
      "source": [
        "torch.softmax(torch.tensor([0.1, -0.2, 0.3, -0.2, 0.5])*8, dim=-1) # gets too peaky, converges to one-hot"
      ]
    },
    {
      "cell_type": "code",
      "execution_count": null,
      "metadata": {
        "colab": {
          "base_uri": "https://localhost:8080/"
        },
        "id": "IziUPGKDFAUm",
        "outputId": "94ded0ce-9e8d-4253-d5ee-345b7ef30988"
      },
      "outputs": [
        {
          "name": "stdout",
          "output_type": "stream",
          "text": [
            "step 0: train loss 4.2849, val loss 4.2823\n",
            "step 300: train loss 2.3183, val loss 2.3466\n",
            "step 600: train loss 1.8885, val loss 2.0019\n",
            "step 900: train loss 1.6504, val loss 1.8089\n",
            "step 1200: train loss 1.5188, val loss 1.7069\n",
            "step 1500: train loss 1.4394, val loss 1.6403\n",
            "step 1800: train loss 1.3758, val loss 1.5862\n",
            "step 2100: train loss 1.3274, val loss 1.5594\n",
            "step 2400: train loss 1.2909, val loss 1.5387\n",
            "step 2700: train loss 1.2561, val loss 1.5145\n",
            "step 3000: train loss 1.2273, val loss 1.5077\n",
            "step 3300: train loss 1.2016, val loss 1.4953\n",
            "step 3600: train loss 1.1810, val loss 1.4953\n",
            "step 3900: train loss 1.1546, val loss 1.4923\n",
            "step 4200: train loss 1.1311, val loss 1.4858\n",
            "step 4500: train loss 1.1064, val loss 1.4814\n",
            "step 4800: train loss 1.0873, val loss 1.4943\n",
            "\n",
            "But with prison: I with such sweet more\n",
            "merely.\n",
            "\n",
            "MENENIUS:\n",
            "Sir, 'tis hi nothing. He wish'd to slep to\n",
            "can cold him win his inher.\n",
            "\n",
            "MISTRESS OVERDONE:\n",
            "The last go, these weary harms all woman.\n",
            "Go: I hear home to the world: whatsures she was?\n",
            "\n",
            "Both Trio mark, look upon the garlds, Juliet? Hence, who feeling,\n",
            "thereto with the helds of Lord:\n",
            "Then spice, it was not much seen that looks his\n",
            "speak; there, appearing. Here's sleptency, matues\n",
            "have standed, In England as you!\n",
            "\n",
            "Lord Soldier:\n",
            "Look, together\n"
          ]
        }
      ],
      "source": [
        "import torch\n",
        "import torch.nn as nn\n",
        "from torch.nn import functional as F\n",
        "from torch.nn import Sequential\n",
        "# hyperparameters\n",
        "batch_size = 64 # how many independent sequences will we process in parallel?\n",
        "block_size = 256 # what is the maximum context length for predictions?\n",
        "max_iters = 5000\n",
        "eval_interval = 300\n",
        "learning_rate = 3e-4\n",
        "device = 'cuda' if torch.cuda.is_available() else 'cpu'\n",
        "eval_iters = 200\n",
        "n_embed=384\n",
        "n_head=6\n",
        "n_layer=6\n",
        "dropout=0.2\n",
        "\n",
        "\n",
        "# ------------\n",
        "\n",
        "torch.manual_seed(1337)\n",
        "\n",
        "# wget https://raw.githubusercontent.com/karpathy/char-rnn/master/data/tinyshakespeare/input.txt\n",
        "with open('input.txt', 'r', encoding='utf-8') as f:\n",
        "    text = f.read()\n",
        "\n",
        "# here are all the unique characters that occur in this text\n",
        "chars = sorted(list(set(text)))\n",
        "vocab_size = len(chars)\n",
        "# create a mapping from characters to integers\n",
        "stoi = { ch:i for i,ch in enumerate(chars) }\n",
        "itos = { i:ch for i,ch in enumerate(chars) }\n",
        "encode = lambda s: [stoi[c] for c in s] # encoder: take a string, output a list of integers\n",
        "decode = lambda l: ''.join([itos[i] for i in l]) # decoder: take a list of integers, output a string\n",
        "\n",
        "# Train and test splits\n",
        "data = torch.tensor(encode(text), dtype=torch.long)\n",
        "n = int(0.9*len(data)) # first 90% will be train, rest val\n",
        "train_data = data[:n]\n",
        "val_data = data[n:]\n",
        "\n",
        "# data loading\n",
        "def get_batch(split):\n",
        "    # generate a small batch of data of inputs x and targets y\n",
        "    data = train_data if split == 'train' else val_data\n",
        "    ix = torch.randint(len(data) - block_size, (batch_size,))\n",
        "    x = torch.stack([data[i:i+block_size] for i in ix])\n",
        "    y = torch.stack([data[i+1:i+block_size+1] for i in ix])\n",
        "    x, y = x.to(device), y.to(device)\n",
        "    return x, y\n",
        "\n",
        "@torch.no_grad()\n",
        "def estimate_loss():\n",
        "    out = {}\n",
        "    model.eval()\n",
        "    for split in ['train', 'val']:\n",
        "        losses = torch.zeros(eval_iters)\n",
        "        for k in range(eval_iters):\n",
        "            X, Y = get_batch(split)\n",
        "            logits, loss = model(X, Y)\n",
        "            losses[k] = loss.item()\n",
        "        out[split] = losses.mean()\n",
        "    model.train()\n",
        "    return out\n",
        "\n",
        "\n",
        "class Head(nn.Module):\n",
        "    \"\"\"one head of self attention\"\"\"\n",
        "\n",
        "    def __init__(self,head_size):\n",
        "        super().__init__()\n",
        "        self.key=nn.Linear(n_embed,head_size,bias=False)\n",
        "        self.query=nn.Linear(n_embed,head_size,bias=False)\n",
        "        self.value=nn.Linear(n_embed,head_size,bias=False)\n",
        "\n",
        "        self.register_buffer('tril',torch.tril(torch.ones(block_size,block_size)))\n",
        "\n",
        "\n",
        "        self.dropout=nn.Dropout(dropout)\n",
        "\n",
        "    def forward(self,x):\n",
        "        B,T,C=x.shape\n",
        "\n",
        "        k=self.key(x) # (B,T,head_size)\n",
        "        q=self.query(x) # (B,T,head_size)\n",
        "\n",
        "        #compute the attention scores(\"affinity\")\n",
        "        wei=q@k.transpose(-2,-1) * (C**-0.5)  # (B,T,head_size) @ (B,head_size,T) ---> (B,T,T)\n",
        "        wei=wei.masked_fill(self.tril[:T,:T]==0,float(\"-inf\"))  # (B,T,T)\n",
        "        wei=F.softmax(wei,dim=-1) # (B,T,T)\n",
        "\n",
        "        wei=self.dropout(wei)\n",
        "        #perform the weighted aggregation of the values\n",
        "        v=self.value(x) #(B,T,head_size)\n",
        "\n",
        "        out=wei@v # (B,T,T) @ (B,T,head_size) ---> (B,T,head_size)\n",
        "\n",
        "        return out\n",
        "\n",
        "\n",
        "class MultiHeadAttention(nn.Module):\n",
        "    \"\"\"multiple heads of self-attention in parallel\"\"\"\n",
        "\n",
        "    def __init__(self,num_heads,head_size):\n",
        "        super().__init__()\n",
        "        self.heads=nn.ModuleList([Head(head_size) for _ in range(num_heads) ])\n",
        "        self.proj=nn.Linear(n_embed,n_embed)  # projection layer going back into the residual pathway\n",
        "        self.dropout=nn.Dropout(dropout)\n",
        "    def forward(self,x):\n",
        "        out=torch.cat([h(x) for h in self.heads],dim=-1)\n",
        "        out=self.proj(out)\n",
        "        out=self.dropout(out)\n",
        "        return out\n",
        "\n",
        "class FeedForward(nn.Module):\n",
        "    \"\"\" A simple linear layer followed by non-linearity\"\"\"\n",
        "\n",
        "    def __init__(self,n_embed):\n",
        "        super().__init__()\n",
        "        self.net=Sequential(\n",
        "            nn.Linear(n_embed,4*n_embed),\n",
        "            nn.ReLU(),\n",
        "            nn.Linear(4*n_embed,n_embed), # projection layer going back into the residual pathway\n",
        "            nn.Dropout(dropout),\n",
        "        )\n",
        "\n",
        "    def forward(self,x):\n",
        "        return self.net(x)\n",
        "\n",
        "\n",
        "\n",
        "class Block(nn.Module):\n",
        "    \"\"\"Transformer Block : Communication followed by computation\"\"\"\n",
        "\n",
        "\n",
        "    def __init__(self,n_embed,n_head):\n",
        "        # n_embed : embedding dimension , n_head: number of heads we like\n",
        "\n",
        "        super().__init__()\n",
        "        head_size=n_embed//n_head\n",
        "        self.sa=MultiHeadAttention(n_head,head_size)   # communication\n",
        "        self.ffwd=FeedForward(n_embed) # computation\n",
        "\n",
        "        self.ln1=nn.LayerNorm(n_embed) #Layer Normalization on the last dimension (channel dimension)\n",
        "        self.ln2=nn.LayerNorm(n_embed) #Layer Normalization\n",
        "\n",
        "\n",
        "    def forward(self,x):\n",
        "        x=x+self.sa(self.ln1(x))   # Residual Connection\n",
        "        x=x+self.ffwd(self.ln2(x)) # Residual Connection\n",
        "        return x\n",
        "\n",
        "\n",
        "# super simple bigram model\n",
        "class BigramLanguageModel(nn.Module):\n",
        "\n",
        "    def __init__(self):\n",
        "        super().__init__()\n",
        "        # each token directly reads off the logits for the next token from a lookup table\n",
        "        self.token_embedding_table = nn.Embedding(vocab_size, n_embed)\n",
        "        self.position_embedding_table=nn.Embedding(block_size,n_embed)\n",
        "        self.blocks=nn.Sequential(*[Block(n_embed,n_head) for _ in range(n_layer)])\n",
        "        self.ln_f=nn.LayerNorm(n_embed)   # final layer norm\n",
        "        self.lm_head=nn.Linear(n_embed,vocab_size)\n",
        "\n",
        "\n",
        "    def forward(self, idx, targets=None):\n",
        "\n",
        "        B,T=idx.shape\n",
        "        # idx and targets are both (B,T) tensor of integers\n",
        "        tok_emb = self.token_embedding_table(idx) # (B,T,n_embed)\n",
        "        pos_emb=self.position_embedding_table(torch.arange(T,device=device)) # (T,C)\n",
        "        x=tok_emb+pos_emb  #(B,T,C)\n",
        "        x=self.blocks(x)   # (B,T,C)\n",
        "        x=self.ln_f(x)     #(B,T,C)\n",
        "        logits=self.lm_head(x) # (B,T,vocab_size)\n",
        "\n",
        "        if targets is None:\n",
        "            loss = None\n",
        "        else:\n",
        "            B, T, C = logits.shape\n",
        "            logits = logits.view(B*T, C)\n",
        "            targets = targets.view(B*T)\n",
        "            loss = F.cross_entropy(logits, targets)\n",
        "\n",
        "        return logits, loss\n",
        "\n",
        "    def generate(self, idx, max_new_tokens):\n",
        "        # idx is (B, T) array of indices in the current context\n",
        "        for _ in range(max_new_tokens):\n",
        "\n",
        "            #crop idx to the last block size tokens\n",
        "            idx_cond=idx[:,-block_size:]\n",
        "\n",
        "            # get the predictions\n",
        "            logits, loss = self(idx_cond)\n",
        "            # focus only on the last time step\n",
        "            logits = logits[:, -1, :] # becomes (B, C)\n",
        "            # apply softmax to get probabilities\n",
        "            probs = F.softmax(logits, dim=-1) # (B, C)\n",
        "            # sample from the distribution\n",
        "            idx_next = torch.multinomial(probs, num_samples=1) # (B, 1)\n",
        "            # append sampled index to the running sequence\n",
        "            idx = torch.cat((idx, idx_next), dim=1) # (B, T+1)\n",
        "        return idx\n",
        "\n",
        "model = BigramLanguageModel()\n",
        "m = model.to(device)\n",
        "\n",
        "# create a PyTorch optimizer\n",
        "optimizer = torch.optim.AdamW(model.parameters(), lr=learning_rate)\n",
        "\n",
        "for iter in range(max_iters):\n",
        "\n",
        "    # every once in a while evaluate the loss on train and val sets\n",
        "    if iter % eval_interval == 0:\n",
        "        losses = estimate_loss()\n",
        "        print(f\"step {iter}: train loss {losses['train']:.4f}, val loss {losses['val']:.4f}\")\n",
        "\n",
        "    # sample a batch of data\n",
        "    xb, yb = get_batch('train')\n",
        "\n",
        "    # evaluate the loss\n",
        "    logits, loss = model(xb, yb)\n",
        "    optimizer.zero_grad(set_to_none=True)\n",
        "    loss.backward()\n",
        "    optimizer.step()\n",
        "\n",
        "# generate from the model\n",
        "context = torch.zeros((1, 1), dtype=torch.long, device=device)\n",
        "print(decode(m.generate(context, max_new_tokens=500)[0].tolist()))"
      ]
    },
    {
      "cell_type": "markdown",
      "metadata": {
        "id": "nphxKS3LwvBs"
      },
      "source": [
        "# Trigram Language Model"
      ]
    },
    {
      "cell_type": "code",
      "execution_count": null,
      "metadata": {
        "colab": {
          "background_save": true,
          "base_uri": "https://localhost:8080/"
        },
        "id": "jRCo8M1Sww08",
        "outputId": "d5288799-6102-4810-f93d-76509072cea0"
      },
      "outputs": [
        {
          "name": "stdout",
          "output_type": "stream",
          "text": [
            "step 0: train loss 4.3067, val loss 4.3075\n",
            "step 200: train loss 3.1677, val loss 3.2125\n",
            "step 400: train loss 2.7698, val loss 2.8392\n",
            "step 600: train loss 2.6064, val loss 2.7259\n",
            "step 800: train loss 2.5395, val loss 2.6805\n",
            "step 1000: train loss 2.4855, val loss 2.6362\n",
            "step 1200: train loss 2.4024, val loss 2.5804\n",
            "step 1400: train loss 2.3106, val loss 2.5233\n",
            "step 1600: train loss 2.2311, val loss 2.4545\n",
            "step 1800: train loss 2.1579, val loss 2.3943\n",
            "step 2000: train loss 2.0951, val loss 2.3588\n",
            "step 2200: train loss 2.0420, val loss 2.3170\n",
            "step 2400: train loss 1.9922, val loss 2.2948\n",
            "step 2600: train loss 1.9453, val loss 2.2695\n",
            "step 2800: train loss 1.9054, val loss 2.2702\n",
            "step 3000: train loss 1.8571, val loss 2.2403\n",
            "step 3200: train loss 1.8221, val loss 2.2492\n",
            "step 3400: train loss 1.7900, val loss 2.2356\n",
            "step 3600: train loss 1.7534, val loss 2.2462\n",
            "step 3800: train loss 1.7177, val loss 2.2413\n",
            "step 4000: train loss 1.6832, val loss 2.2492\n",
            "step 4200: train loss 1.6406, val loss 2.2712\n",
            "step 4400: train loss 1.5981, val loss 2.2677\n",
            "step 4600: train loss 1.5602, val loss 2.2804\n",
            "step 4800: train loss 1.5158, val loss 2.3061\n",
            "step 5000: train loss 1.4735, val loss 2.3397\n",
            "step 5200: train loss 1.4328, val loss 2.3328\n",
            "step 5400: train loss 1.3858, val loss 2.3695\n",
            "step 5600: train loss 1.3505, val loss 2.3889\n",
            "step 5800: train loss 1.3091, val loss 2.4289\n",
            "step 6000: train loss 1.2683, val loss 2.4577\n",
            "step 6200: train loss 1.2243, val loss 2.4836\n",
            "step 6400: train loss 1.1855, val loss 2.5309\n",
            "step 6600: train loss 1.1493, val loss 2.5524\n",
            "step 6800: train loss 1.1125, val loss 2.5855\n",
            "step 7000: train loss 1.0761, val loss 2.6118\n",
            "step 7200: train loss 1.0394, val loss 2.6483\n",
            "step 7400: train loss 1.0081, val loss 2.6793\n",
            "step 7600: train loss 0.9731, val loss 2.7139\n",
            "step 7800: train loss 0.9438, val loss 2.7388\n",
            "step 8000: train loss 0.9109, val loss 2.7691\n",
            "step 8200: train loss 0.8765, val loss 2.8166\n",
            "step 8400: train loss 0.8529, val loss 2.8570\n",
            "step 8600: train loss 0.8277, val loss 2.8863\n",
            "step 8800: train loss 0.7981, val loss 2.9084\n",
            "step 9000: train loss 0.7750, val loss 2.9332\n",
            "step 9200: train loss 0.7522, val loss 2.9880\n",
            "step 9400: train loss 0.7259, val loss 3.0043\n",
            "step 9600: train loss 0.7041, val loss 3.0554\n",
            "step 9800: train loss 0.6825, val loss 3.0748\n",
            "\n",
            "wi\n",
            "lso\n",
            "taeohessuo,\n",
            "ont toehtasn winherdt audaren  ooei ,aipidgs.h\n",
            "\n",
            "eiehcaai::Ls have n betness  nrn  o  aro nett\n",
            "nptelliggnd sfmlntt  oArtsthts  cezt  mr Iebs.\n",
            "Ieat tyemrlsset, woan\n",
            "tha  aTdoddiny  iA dhulburye\n",
            "'hwrcnh,ost nf llv;sf  ere shc os e erb ti lnvh,rSee,.T,nhC\n",
            "tment. \n",
            "h\n",
            "me  ohfel\n",
            "ohhr\n",
            "eoes  ard feol ,iMulfuc  oTtlmn tareue\n",
            "\n",
            "fEtona:\n",
            "Shwpr,bb,ttgneow  ao ehold  h snewpcfofdal; A\n",
            "duatyo roauhes\n",
            "\n",
            "eUett\n",
            "ehfale::t:taa,oht  owtbeta: wha  aataesh,at\n",
            "ehelde  ere nhwhyr a dae?etet,\n",
            "thiuk ' wosl \n"
          ]
        }
      ],
      "source": [
        "import torch\n",
        "import torch.nn as nn\n",
        "from torch.nn import functional as F\n",
        "from torch.nn import Sequential\n",
        "\n",
        "from torch.optim.lr_scheduler import LambdaLR\n",
        "\n",
        "# hyperparameters\n",
        "batch_size = 64 # how many independent sequences will we process in parallel?\n",
        "block_size = 256 # what is the maximum context length for predictions?\n",
        "max_iters = 10000\n",
        "eval_interval = 200\n",
        "learning_rate = 1.0\n",
        "device = 'cuda' if torch.cuda.is_available() else 'cpu'\n",
        "eval_iters = 200\n",
        "n_embed=384\n",
        "n_head=6\n",
        "n_layer=6\n",
        "dropout=0.2\n",
        "\n",
        "\n",
        "# ------------\n",
        "\n",
        "torch.manual_seed(1337)\n",
        "\n",
        "!wget https://raw.githubusercontent.com/karpathy/char-rnn/master/data/tinyshakespeare/input.txt\n",
        "with open('input.txt', 'r', encoding='utf-8') as f:\n",
        "    text = f.read()\n",
        "\n",
        "# here are all the unique characters that occur in this text\n",
        "chars = sorted(list(set(text)))\n",
        "vocab_size = len(chars)\n",
        "# create a mapping from characters to integers\n",
        "stoi = { ch:i for i,ch in enumerate(chars) }\n",
        "itos = { i:ch for i,ch in enumerate(chars) }\n",
        "encode = lambda s: [stoi[c] for c in s] # encoder: take a string, output a list of integers\n",
        "decode = lambda l: ''.join([itos[i] for i in l]) # decoder: take a list of integers, output a string\n",
        "\n",
        "# Train and test splits\n",
        "data = torch.tensor(encode(text), dtype=torch.long)\n",
        "n = int(0.9*len(data)) # first 90% will be train, rest val\n",
        "train_data = data[:n]\n",
        "val_data = data[n:]\n",
        "\n",
        "# data loading\n",
        "def get_batch(split):\n",
        "    # generate a small batch of data of inputs x and targets y\n",
        "    data = train_data if split == 'train' else val_data\n",
        "    ix = torch.randint(len(data) - block_size, (batch_size,))\n",
        "    x = torch.stack([data[i:i+block_size] for i in ix])\n",
        "    y = torch.stack([data[i+1:i+block_size+1] for i in ix])\n",
        "    x, y = x.to(device), y.to(device)\n",
        "    return x, y\n",
        "\n",
        "@torch.no_grad()\n",
        "def estimate_loss():\n",
        "    out = {}\n",
        "    model.eval()\n",
        "    for split in ['train', 'val']:\n",
        "        losses = torch.zeros(eval_iters)\n",
        "        for k in range(eval_iters):\n",
        "            X, Y = get_batch(split)\n",
        "            logits, loss = model(X, Y)\n",
        "            losses[k] = loss.item()\n",
        "        out[split] = losses.mean()\n",
        "    model.train()\n",
        "    return out\n",
        "\n",
        "def custom_lr_lambda(step):\n",
        "    warmup_steps=4000\n",
        "\n",
        "    factor=(n_embed**-0.5)*min((step+1)**-0.5,step*(warmup_steps**-1.5))\n",
        "    return (factor/learning_rate)\n",
        "\n",
        "class Head(nn.Module):\n",
        "    \"\"\"one head of self attention\"\"\"\n",
        "\n",
        "    def __init__(self,head_size):\n",
        "        super().__init__()\n",
        "        self.key=nn.Linear(n_embed,head_size,bias=False)\n",
        "        self.query=nn.Linear(n_embed,head_size,bias=False)\n",
        "        self.value=nn.Linear(n_embed,head_size,bias=False)\n",
        "\n",
        "        self.register_buffer('tril',torch.tril(torch.ones(block_size,block_size)))\n",
        "\n",
        "\n",
        "        self.dropout=nn.Dropout(dropout)\n",
        "\n",
        "    def forward(self,x):\n",
        "        B,T,C=x.shape\n",
        "\n",
        "        k=self.key(x) # (B,T,head_size)\n",
        "        q=self.query(x) # (B,T,head_size)\n",
        "\n",
        "        #compute the attention scores(\"affinity\")\n",
        "        wei=q@k.transpose(-2,-1) * (C**-0.5)  # (B,T,head_size) @ (B,head_size,T) ---> (B,T,T)\n",
        "        wei=wei.masked_fill(self.tril[:T,:T]==0,float(\"-inf\"))  # (B,T,T)\n",
        "        wei=F.softmax(wei,dim=-1) # (B,T,T)\n",
        "\n",
        "        wei=self.dropout(wei)\n",
        "        #perform the weighted aggregation of the values\n",
        "        v=self.value(x) #(B,T,head_size)\n",
        "\n",
        "        out=wei@v # (B,T,T) @ (B,T,head_size) ---> (B,T,head_size)\n",
        "\n",
        "        return out\n",
        "\n",
        "\n",
        "class MultiHeadAttention(nn.Module):\n",
        "    \"\"\"multiple heads of self-attention in parallel\"\"\"\n",
        "\n",
        "    def __init__(self,num_heads,head_size):\n",
        "        super().__init__()\n",
        "        self.heads=nn.ModuleList([Head(head_size) for _ in range(num_heads) ])\n",
        "        self.proj=nn.Linear(n_embed,n_embed)  # projection layer going back into the residual pathway\n",
        "        self.dropout=nn.Dropout(dropout)\n",
        "    def forward(self,x):\n",
        "        out=torch.cat([h(x) for h in self.heads],dim=-1)\n",
        "        out=self.proj(out)\n",
        "        out=self.dropout(out)\n",
        "        return out\n",
        "\n",
        "class FeedForward(nn.Module):\n",
        "    \"\"\" A simple linear layer followed by non-linearity\"\"\"\n",
        "\n",
        "    def __init__(self,n_embed):\n",
        "        super().__init__()\n",
        "        self.net=Sequential(\n",
        "            nn.Linear(n_embed,4*n_embed),\n",
        "            nn.ReLU(),\n",
        "            nn.Linear(4*n_embed,n_embed), # projection layer going back into the residual pathway\n",
        "            nn.Dropout(dropout),\n",
        "        )\n",
        "\n",
        "    def forward(self,x):\n",
        "        return self.net(x)\n",
        "\n",
        "\n",
        "\n",
        "class Block(nn.Module):\n",
        "    \"\"\"Transformer Block : Communication followed by computation\"\"\"\n",
        "\n",
        "\n",
        "    def __init__(self,n_embed,n_head):\n",
        "        # n_embed : embedding dimension , n_head: number of heads we like\n",
        "\n",
        "        super().__init__()\n",
        "        head_size=n_embed//n_head\n",
        "        self.sa=MultiHeadAttention(n_head,head_size)   # communication\n",
        "        self.ffwd=FeedForward(n_embed) # computation\n",
        "\n",
        "        self.ln1=nn.LayerNorm(n_embed) #Layer Normalization on the last dimension (channel dimension)\n",
        "        self.ln2=nn.LayerNorm(n_embed) #Layer Normalization\n",
        "\n",
        "\n",
        "    def forward(self,x):\n",
        "        x=x+self.sa(self.ln1(x))   # Residual Connection\n",
        "        x=x+self.ffwd(self.ln2(x)) # Residual Connection\n",
        "        return x\n",
        "\n",
        "\n",
        "# super simple bigram model\n",
        "class TrigramLanguageModel(nn.Module):\n",
        "\n",
        "    def __init__(self):\n",
        "        super().__init__()\n",
        "        # each token directly reads off the logits for the next token from a lookup table\n",
        "        self.token_embedding_table = nn.Embedding(vocab_size*vocab_size, n_embed)\n",
        "        self.position_embedding_table=nn.Embedding(block_size,n_embed)\n",
        "        self.blocks=nn.Sequential(*[Block(n_embed,n_head) for _ in range(n_layer)])\n",
        "        self.ln_f=nn.LayerNorm(n_embed)   # final layer norm\n",
        "        self.lm_head=nn.Linear(n_embed,vocab_size)\n",
        "\n",
        "\n",
        "    def forward(self, idx, targets=None):\n",
        "\n",
        "        B,T=idx.shape\n",
        "\n",
        "        if T<2:\n",
        "            logits=torch.zeros(B,T,vocab_size,device=idx.device)\n",
        "        else :\n",
        "            prev1=idx[:,:-2]   # (B,T-2)\n",
        "            prev2=idx[:,1:-1]  # (B,T-2)\n",
        "            pair_idx=prev1*vocab_size+prev2\n",
        "            tok_emb = self.token_embedding_table(pair_idx) # (B,T-2,n_embed)\n",
        "            pad=torch.zeros(B,2,n_embed,device=idx.device)\n",
        "            tok_emb=torch.cat([pad,tok_emb],dim=1)\n",
        "            pos_emb=self.position_embedding_table(torch.arange(T,device=device)) # (T,C = n_embed)\n",
        "            x=tok_emb+pos_emb  #(B,T,C)\n",
        "            x=self.blocks(x)   # (B,T,C)\n",
        "            x=self.ln_f(x)     #(B,T,C)\n",
        "            logits=self.lm_head(x) # (B,T,vocab_size)\n",
        "\n",
        "        if targets is None:\n",
        "            loss = None\n",
        "        else:\n",
        "            B, T, C = logits.shape\n",
        "            logits = logits.view(B*T, C)\n",
        "            targets = targets.view(B*T)\n",
        "            loss = F.cross_entropy(logits, targets)\n",
        "\n",
        "        return logits, loss\n",
        "\n",
        "    def generate(self, idx, max_new_tokens):\n",
        "        # idx is (B, T) array of indices in the current context\n",
        "        for _ in range(max_new_tokens):\n",
        "\n",
        "            #crop idx to the last block size tokens\n",
        "            idx_cond=idx[:,-block_size:]\n",
        "\n",
        "            # get the predictions\n",
        "            logits, loss = self(idx_cond)\n",
        "            # focus only on the last time step\n",
        "            logits = logits[:, -1, :] # becomes (B, C)\n",
        "            # apply softmax to get probabilities\n",
        "            probs = F.softmax(logits, dim=-1) # (B, C)\n",
        "            # sample from the distribution\n",
        "            idx_next = torch.multinomial(probs, num_samples=1) # (B, 1)\n",
        "            # append sampled index to the running sequence\n",
        "            idx = torch.cat((idx, idx_next), dim=1) # (B, T+1)\n",
        "        return idx\n",
        "\n",
        "model = TrigramLanguageModel()\n",
        "m = model.to(device)\n",
        "\n",
        "# create a PyTorch optimizer\n",
        "optimizer = torch.optim.AdamW(model.parameters(), lr=learning_rate)\n",
        "scheduler=LambdaLR(optimizer,lr_lambda=custom_lr_lambda)\n",
        "for iter in range(max_iters):\n",
        "\n",
        "    # every once in a while evaluate the loss on train and val sets\n",
        "    if iter % eval_interval == 0:\n",
        "        losses = estimate_loss()\n",
        "        print(f\"step {iter}: train loss {losses['train']:.4f}, val loss {losses['val']:.4f}\")\n",
        "\n",
        "    # sample a batch of data\n",
        "    xb, yb = get_batch('train')\n",
        "\n",
        "    # evaluate the loss\n",
        "    logits, loss = model(xb, yb)\n",
        "    optimizer.zero_grad(set_to_none=True)\n",
        "    loss.backward()\n",
        "    optimizer.step()\n",
        "    scheduler.step()\n",
        "\n",
        "# generate from the model\n",
        "context = torch.zeros((1, 1), dtype=torch.long, device=device)\n",
        "print(decode(m.generate(context, max_new_tokens=500)[0].tolist()))"
      ]
    }
  ],
  "metadata": {
    "accelerator": "GPU",
    "colab": {
      "gpuType": "T4",
      "provenance": []
    },
    "kernelspec": {
      "display_name": "Python 3",
      "name": "python3"
    },
    "language_info": {
      "name": "python"
    }
  },
  "nbformat": 4,
  "nbformat_minor": 0
}